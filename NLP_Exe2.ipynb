{
  "nbformat": 4,
  "nbformat_minor": 0,
  "metadata": {
    "colab": {
      "name": "NLP_Exe2.ipynb",
      "provenance": [],
      "collapsed_sections": [],
      "toc_visible": true,
      "mount_file_id": "17FYeMD4Zts6nQIwrgdAIB59im-oPid2w",
      "authorship_tag": "ABX9TyNgtuik3L6JbRsU0P8Eivo9",
      "include_colab_link": true
    },
    "kernelspec": {
      "name": "python3",
      "display_name": "Python 3"
    },
    "language_info": {
      "name": "python"
    },
    "accelerator": "TPU"
  },
  "cells": [
    {
      "cell_type": "markdown",
      "metadata": {
        "id": "view-in-github",
        "colab_type": "text"
      },
      "source": [
        "<a href=\"https://colab.research.google.com/github/icsd13152/NLP_Exercises/blob/main/NLP_Exe2.ipynb\" target=\"_parent\"><img src=\"https://colab.research.google.com/assets/colab-badge.svg\" alt=\"Open In Colab\"/></a>"
      ]
    },
    {
      "cell_type": "code",
      "execution_count": 1,
      "metadata": {
        "id": "JO7rSpuPX1Ly",
        "colab": {
          "base_uri": "https://localhost:8080/"
        },
        "outputId": "18f65405-9fba-4a65-c71a-41e7fcbfdd9b"
      },
      "outputs": [
        {
          "output_type": "stream",
          "name": "stdout",
          "text": [
            "[nltk_data] Downloading package treebank to /root/nltk_data...\n",
            "[nltk_data]   Unzipping corpora/treebank.zip.\n"
          ]
        }
      ],
      "source": [
        "import nltk\n",
        "import spacy\n",
        "import re\n",
        "import os\n",
        "from nltk.probability import FreqDist\n",
        "nltk.download('treebank')\n",
        "from nltk.corpus import treebank\n",
        "import string\n",
        "import matplotlib.pyplot as plt\n",
        "from tabulate import tabulate\n",
        "from collections import Counter, defaultdict\n",
        "from nltk.util import ngrams\n",
        "from nltk.probability import FreqDist\n",
        "import math\n",
        "import matplotlib.pyplot as plt\n"
      ]
    },
    {
      "cell_type": "code",
      "source": [
        "from google.colab import drive\n",
        "drive.mount('/content/drive')\n",
        "base_path = '/content/drive/My Drive/NLP'"
      ],
      "metadata": {
        "colab": {
          "base_uri": "https://localhost:8080/"
        },
        "id": "Gpfybj1_5UUM",
        "outputId": "efbd5545-04b5-44db-da39-a868a823febf"
      },
      "execution_count": 2,
      "outputs": [
        {
          "output_type": "stream",
          "name": "stdout",
          "text": [
            "Drive already mounted at /content/drive; to attempt to forcibly remount, call drive.mount(\"/content/drive\", force_remount=True).\n"
          ]
        }
      ]
    },
    {
      "cell_type": "markdown",
      "source": [
        "# N-gram Language Models"
      ],
      "metadata": {
        "id": "q9Ah39cknkHZ"
      }
    },
    {
      "cell_type": "markdown",
      "source": [
        "## Bigrams με add-1 smoothing"
      ],
      "metadata": {
        "id": "CI1d-m0anpfM"
      }
    },
    {
      "cell_type": "markdown",
      "source": [
        "Με την μέθοδο του Add-1 smoothing, πρακτικά υπολογίζουμε την πιθανότητα του ngram προσθέτωντας +1 στο πλήθος του συγκεκριμένου ngram ώστε να μην προκύψει πιθανότητα ίση με το μηδέν. Αυτή η τεχνική ονομάζεται και Laplace smoothing. "
      ],
      "metadata": {
        "id": "oSqfMqEhQQ7C"
      }
    },
    {
      "cell_type": "code",
      "source": [
        "def joinGroundTruthTokenInOneList(treebankFiles):\n",
        "    tokens = list()\n",
        "    for file in treebankFiles:\n",
        "        tmpTokens = treebank.words(file)\n",
        "        for index in range(len(tmpTokens)):\n",
        "            tokens.append(tmpTokens[index])\n",
        "    return tokens\n",
        "\n",
        "\n",
        "def customizeTreebank(files,lookupDict):\n",
        "  tokens = list()\n",
        "  counter = 0\n",
        "  \n",
        "  for file in files:\n",
        "      tmpTokens = treebank.words(file)\n",
        "      for index in range(len(tmpTokens)):\n",
        "        if index == 0:\n",
        "          tokens.append(\"<BOS>\")\n",
        "        else:\n",
        "          if lookupDict[tmpTokens[index]] < 3:\n",
        "            tokens.append('<UNK>')\n",
        "          else:\n",
        "            tokens.append(tmpTokens[index])\n",
        "      tokens.append(\"<EOS>\")\n",
        "  return tokens    \n",
        "  \n",
        "\n",
        "def customizeTest(files,listOftrainSet): \n",
        "  tokens = list()     \n",
        "  for file in files:\n",
        "      tmpTokens = treebank.words(file)\n",
        "      for index in range(len(tmpTokens)):\n",
        "          if index == 0:\n",
        "            tokens.append(\"<BOS>\")\n",
        "          else:\n",
        "            if tmpTokens[index] in listOftrainSet:\n",
        "              tokens.append(tmpTokens[index])\n",
        "            else:\n",
        "              tokens.append('<UNK>')\n",
        "      tokens.append(\"<EOS>\")\n",
        "  return tokens\n",
        "\n",
        "files150 = treebank.fileids()[:150]\n",
        "tokens = joinGroundTruthTokenInOneList(files150)\n",
        "lookupFreqDict = FreqDist(tokens)\n",
        "files = treebank.fileids()[151:len(treebank.fileids())-1]\n",
        "\n",
        "listOfTokens150 = customizeTreebank(files150,lookupFreqDict)\n",
        "listOfTokensTest = customizeTest(files,listOfTokens150)\n",
        "\n",
        "bigramms = dict()\n",
        "class BigramAdd1Smoothing(object):\n",
        "\n",
        "    def __init__(self):\n",
        "      # self.files150 = treebank.fileids()[:150]\n",
        "      self.bigram_counts = defaultdict(lambda: defaultdict(int))\n",
        "      self.unigram_counts = defaultdict(int)\n",
        "      self.total_bigrams = 0\n",
        "      self.bigrammsDict = {}\n",
        "    def train(self,tokens):\n",
        "      \n",
        "      for i in range(1, len(tokens)):\n",
        "\n",
        "          bigram = (tokens[i-1], tokens[i])\n",
        "          # print()\n",
        "          # print(bigram)\n",
        "          self.bigram_counts[bigram[0]][bigram[1]] += 1\n",
        "          self.unigram_counts[bigram[0]] += 1\n",
        "          self.total_bigrams += 1\n",
        "      \n",
        "\n",
        "\n",
        "    def get_bigram_probability(self, listOfTokens):\n",
        "        prob = 0.0\n",
        "        for i in range(1, len(listOfTokens)):\n",
        "\n",
        "            bigram = (listOfTokens[i-1], listOfTokens[i])\n",
        "            # print(bigram)\n",
        "            first_word = bigram[0]\n",
        "            second_word = bigram[1]\n",
        "            # if the bigram doesn't exist in our counts, then we need to\n",
        "            # return the probability of the unigram\n",
        "            if self.bigram_counts[first_word][second_word] == 0:\n",
        "                prob =  1.0 / (self.unigram_counts[first_word] + len(self.unigram_counts))\n",
        "\n",
        "            # otherwise, we can just return the bigram probability\n",
        "            else:\n",
        "                prob = 1.0 * self.bigram_counts[first_word][second_word] / self.unigram_counts[first_word]\n",
        "            bigramms[bigram] = prob\n",
        "            # print(bigramms)\n",
        "            # if i == 10:\n",
        "            #   break\n",
        "        self.bigrammsDict = bigramms\n",
        "        return self.bigrammsDict\n",
        "\n",
        "modelBigramm = BigramAdd1Smoothing()\n",
        "\n",
        "bigramsTrain = modelBigramm.train(listOfTokens150)\n",
        "bigramms = modelBigramm.get_bigram_probability(listOfTokens150)\n",
        "\n",
        "# print(modelBigramm.get_bigram_probability(bigramsTrain))\n",
        "\n",
        "\n",
        "def calcPerplexity(bigrams, listOfTokens):\n",
        "\n",
        "    perplexity = 1.000\n",
        "    N = len(listOfTokens)\n",
        "    prob = 1.0\n",
        "    for idx in range(1,len(listOfTokens)):\n",
        "        bigr = (listOfTokens[idx-1],listOfTokens[idx])\n",
        "        # print(bigr)\n",
        "        # print(bigrams[bi])\n",
        "        if bigr in bigrams.keys():\n",
        "          #  print(prob)\n",
        "           prob += math.log2(bigrams[bigr])\n",
        "        #      prob *= 1/(bigrams[bigr]*100)\n",
        "        # else: \n",
        "        #      prob = 1\n",
        "        \n",
        "    \n",
        "    if prob != 0.0:\n",
        "      perplexity = (-prob/N)*100\n",
        "      #  perplexity = prob**(1/N)\n",
        "    # perplexity = pow(perplexity, 1/N)\n",
        "    return perplexity\n",
        "\n",
        "perplexityAdd1bigr = calcPerplexity(bigramms,listOfTokensTest)#listOfTokensTest\n",
        "print(perplexityAdd1bigr)\n",
        "\n",
        "  \n",
        "    "
      ],
      "metadata": {
        "colab": {
          "base_uri": "https://localhost:8080/"
        },
        "id": "Qx0JGncQ4pKC",
        "outputId": "c81034ff-60ca-4a63-bab8-55aec9a4fac9"
      },
      "execution_count": 3,
      "outputs": [
        {
          "output_type": "stream",
          "name": "stdout",
          "text": [
            "350.89923705991373\n"
          ]
        }
      ]
    },
    {
      "cell_type": "markdown",
      "source": [
        "## Bigrams με Good-Turing discounting"
      ],
      "metadata": {
        "id": "3_6EFK2gnxLt"
      }
    },
    {
      "cell_type": "markdown",
      "source": [
        "Για τον υπολογισμό της πιθανότητας του κάθε ngram με παρα πολύ χαμηλή ή μηδενική συχνότητα εμφάνισης, χρησιμοποιούμε τις πιθανότητες των ngram με υψηλότερη συχνότητα. Για παράδειγμα:\n",
        "Έστω οτι έχω τα παρακάτω unigrams με συχνότητες:\n",
        "* (I) = 1\n",
        "* (go) = 2\n",
        "* (to) = 2\n",
        "* (play) =1  <br>\n",
        "\n",
        "Για να υπολογίσω τις πιθανότητες ακολουθώ την εξής διαδικασία: <br>\n",
        "\n",
        "Πλήθος tokens = 1 + 2 + 2 + 1 = 6 <br>\n",
        "Πλήθος εμφάνησης της συχνότητας 1 (συχνότητα της συχνότητας) = 2 <br>\n",
        "Άρα N1 = 2, επομένως C = N1/Πλήθος tokens = 2/6 <br>\n",
        "Για την τελική  Πιθανότητα του token Ι θα πρέπει με παρόμοιο τρόπο να υπολογίσω και το αντίστοιχο C για την αμέσως επόμενη συχνότητα, δηλ. το 2.\n",
        "Άρα το C* του token I = 2 * N2/N1. Εάν όλο αυτό το διαιρέσουμε με το πλήθος των tokens στο corpus τότε έχουμε την πιθανότητα που ζητάμε. \n",
        "\n",
        "\n"
      ],
      "metadata": {
        "id": "wC5q0srJRQWu"
      }
    },
    {
      "cell_type": "code",
      "source": [
        "bigramms = dict()\n",
        "import pandas as pd\n",
        "class BigramGoodTuringSmoothing(object):\n",
        "\n",
        "    def __init__(self):\n",
        "      # self.files150 = treebank.fileids()[:150]\n",
        "      self.bigram_counts = defaultdict(lambda: defaultdict(int))\n",
        "      self.unigram_counts = defaultdict(int)\n",
        "      self.total_bigrams = 0\n",
        "      self.bigrammsDict = {}\n",
        "      self.N = list()\n",
        "    def train(self,tokens):\n",
        "      \n",
        "      for i in range(1, len(tokens)):\n",
        "\n",
        "          bigram = (tokens[i-1], tokens[i])\n",
        "          # print()\n",
        "          # print(bigram)\n",
        "          self.bigram_counts[bigram[0]][bigram[1]] += 1\n",
        "          self.unigram_counts[bigram[0]] += 1\n",
        "          self.total_bigrams += 1\n",
        "\n",
        "    def calculateN(self,listTokens): #c = Counter(dictionary.values())\n",
        "        for i in range(1, len(listTokens)):\n",
        "            bigram = (listTokens[i-1], listTokens[i])\n",
        "            self.N.append(self.bigram_counts[bigram[0]][bigram[1]])\n",
        "        obs_count = {}\n",
        "        for item in self.N:\n",
        "            if item in obs_count:\n",
        "               obs_count[item] += 1\n",
        "            else:\n",
        "               obs_count[item] = 1\n",
        "        return obs_count\n",
        "    def get_bigram_probability(self, listOfTokens,counts):\n",
        "        prob = 0.0\n",
        "        counter = 0\n",
        "        for i in range(1, len(listOfTokens)):\n",
        "\n",
        "            bigram = (listOfTokens[i-1], listOfTokens[i])\n",
        "            # print(bigram)\n",
        "            first_word = bigram[0]\n",
        "            second_word = bigram[1]\n",
        "            # Nc = self.N[self.bigram_counts[first_word][second_word]] \n",
        "            # print()\n",
        "            Nc = self.N[self.bigram_counts[first_word][second_word]] \n",
        "            Nnext = Nc + 1 \n",
        "            c = (self.bigram_counts[first_word][second_word] + 1) * Nnext  / Nc\n",
        "            prob = c/len(self.N)\n",
        "            # tmpList = sorted(list(counts))\n",
        "            # # print(tmpList)      \n",
        "            # Nc = counts[self.bigram_counts[first_word][second_word]]\n",
        "            \n",
        "            # # print(Nc)\n",
        "            # # print(tmpList.index(self.bigram_counts[first_word][second_word]))\n",
        "            # if tmpList.index(self.bigram_counts[first_word][second_word]) != len(tmpList)-1:\n",
        "            #     Nnext = tmpList[tmpList.index(self.bigram_counts[first_word][second_word]) + 1]\n",
        "            # else:\n",
        "            #     Nnext = tmpList[tmpList.index(self.bigram_counts[first_word][second_word])]     \n",
        "            # # print(Nnext)\n",
        "            # c = (self.bigram_counts[first_word][second_word] + 1) * Nnext  / Nc\n",
        "            # prob = c/len(self.N)\n",
        "            # print(prob*100)\n",
        "            bigramms[bigram] = prob\n",
        "\n",
        "        self.bigrammsDict = bigramms\n",
        "        return self.bigrammsDict\n",
        "\n",
        "modelgoodTuringBigramm = BigramGoodTuringSmoothing()\n",
        "\n",
        "bigramsTrain = modelgoodTuringBigramm.train(listOfTokens150)\n",
        "counts = modelgoodTuringBigramm.calculateN(listOfTokens150)\n",
        "bigramms = modelgoodTuringBigramm.get_bigram_probability(listOfTokens150,counts)\n",
        "\n",
        "# print(modelgoodTuringBigramm.get_bigram_probability(bigramsTrain))\n",
        "\n",
        "\n",
        "def calcPerplexity(bigrams, listOfTokens):\n",
        "\n",
        "    perplexity = 1.000\n",
        "    N = len(listOfTokens)\n",
        "    prob = 1.0\n",
        "    for idx in range(1,len(listOfTokens)):\n",
        "        bigr = (listOfTokens[idx-1],listOfTokens[idx])\n",
        "        # print(bigr)\n",
        "        # print(bigrams[bi])\n",
        "        if bigr in bigrams.keys():\n",
        "          #  print(prob)\n",
        "           prob += math.log2(bigrams[bigr])\n",
        "        #      prob *= 1/(bigrams[bigr]*100)\n",
        "        # else: \n",
        "        #      prob = 1\n",
        "        \n",
        "        \n",
        "    \n",
        "    if prob != 0.0:\n",
        "       perplexity = (-prob/N)*100\n",
        "      # perplexity = prob**(1/N)\n",
        "    # perplexity = pow(perplexity, 1/N)\n",
        "    return perplexity\n",
        "\n",
        "perplexityGTbigr = calcPerplexity(bigramms,listOfTokensTest)#listOfTokensTest\n",
        "print(perplexityGTbigr)"
      ],
      "metadata": {
        "id": "Afar-xiLQoNt",
        "colab": {
          "base_uri": "https://localhost:8080/"
        },
        "outputId": "b1cb7658-b6ea-4e5a-b942-9276cfae9629"
      },
      "execution_count": 4,
      "outputs": [
        {
          "output_type": "stream",
          "name": "stdout",
          "text": [
            "845.7991102413606\n"
          ]
        }
      ]
    },
    {
      "cell_type": "markdown",
      "source": [
        "## Trigrams με add-1 smoothing"
      ],
      "metadata": {
        "id": "czw6bm6Cn26-"
      }
    },
    {
      "cell_type": "code",
      "source": [
        "class TrigramAdd1SmoothingModel(object):\n",
        "\n",
        "  def __init__(self):\n",
        "\n",
        "      self.trigram_counts = defaultdict(lambda: defaultdict(int))\n",
        "      self.bigram_counts = defaultdict(lambda: defaultdict(int))\n",
        "      self.unigram_counts = defaultdict(int)\n",
        "      self.total_bigrams = 0\n",
        "      self.trigramsDict = dict()\n",
        "  def train(self,tokens):\n",
        "      for i in range(2, len(tokens)):\n",
        "\n",
        "          trigram = (tokens[i-2],tokens[i-1], tokens[i])\n",
        "          # print(trigram)\n",
        "          # print(bigram)\n",
        "          self.trigram_counts[(trigram[0],trigram[1])][trigram[2]] += 1\n",
        "          self.bigram_counts[trigram[0]][trigram[1]] += 1\n",
        "          self.unigram_counts[trigram[0]] += 1\n",
        "          self.total_bigrams += 1\n",
        "\n",
        "  def get_trigram_probability(self, listOfTokens):\n",
        "        prob = 0.0\n",
        "        trigramms = dict()\n",
        "        for i in range(1, len(listOfTokens)):\n",
        "\n",
        "            trigram = (listOfTokens[i-2],listOfTokens[i-1], listOfTokens[i])\n",
        "            # print(bigram)\n",
        "            first_word = trigram[0]\n",
        "            second_word = trigram[1]\n",
        "            third_word = trigram[2]\n",
        "            # if the bigram doesn't exist in our counts, then we need to\n",
        "            # return the probability of the unigram\n",
        "            if self.trigram_counts[(first_word,second_word)][third_word] == 0:\n",
        "                if self.bigram_counts[first_word][second_word] == 0:\n",
        "                   prob =  1.0 / (self.unigram_counts[first_word] + len(self.unigram_counts))\n",
        "                else:\n",
        "                   prob = 1.0 * self.bigram_counts[first_word][second_word] / self.unigram_counts[first_word]\n",
        "            # otherwise, we can just return the trigram probability\n",
        "            else:\n",
        "                prob = 1.0 * self.trigram_counts[(first_word,second_word)][third_word] / self.bigram_counts[first_word][second_word]\n",
        "            trigramms[trigram] = prob\n",
        "            # print(bigramms)\n",
        "            # if i == 10:\n",
        "            #   break\n",
        "        self.trigramsDict = trigramms\n",
        "        return trigramms\n",
        "\n",
        "\n",
        "modelTrigram = TrigramAdd1SmoothingModel()\n",
        "\n",
        "trigramsTrain = modelTrigram.train(listOfTokens150)\n",
        "trigramms = modelTrigram.get_trigram_probability(listOfTokens150)\n",
        "# print(trigramms)\n",
        "\n",
        "def calcPerplexity(trigramms, listOfTokens):\n",
        "\n",
        "    perplexity = 1.000\n",
        "    N = len(listOfTokens)\n",
        "    prob = 1.0\n",
        "    for idx in range(2,len(listOfTokens)):\n",
        "        trigr = (listOfTokens[idx-2],listOfTokens[idx-1],listOfTokens[idx])\n",
        "        # print(bigr)\n",
        "        # print(bigrams[bi])\n",
        "        if trigr in trigramms.keys():\n",
        "          #  print(prob)\n",
        "           prob += math.log2(trigramms[trigr])\n",
        "        #      prob *= 1/ (trigramms[trigr] * 100)\n",
        "        \n",
        "        # else: \n",
        "        #      prob = 1\n",
        "        \n",
        "        \n",
        "    \n",
        "    if prob != 0.0:\n",
        "       perplexity = (-prob/N)*100\n",
        "      # perplexity = prob**(1/N)\n",
        "    # perplexity = pow(perplexity, 1/N)\n",
        "    return perplexity\n",
        "\n",
        "perpltrigrAdd1 = calcPerplexity(trigramms,listOfTokensTest)\n",
        "print(perpltrigrAdd1)"
      ],
      "metadata": {
        "colab": {
          "base_uri": "https://localhost:8080/"
        },
        "id": "aI2kSKzlPiYb",
        "outputId": "4829a168-cea1-46ef-a38d-db813295acb7"
      },
      "execution_count": 6,
      "outputs": [
        {
          "output_type": "stream",
          "name": "stdout",
          "text": [
            "116.85472950231468\n"
          ]
        }
      ]
    },
    {
      "cell_type": "markdown",
      "source": [
        "## Trigrams με Good-Turing discounting"
      ],
      "metadata": {
        "id": "Xj_ZIHakn8PP"
      }
    },
    {
      "cell_type": "code",
      "source": [
        "class TrigramGoodTuringSmoothingModel(object):\n",
        "\n",
        "  def __init__(self):\n",
        "\n",
        "      self.trigram_counts = defaultdict(lambda: defaultdict(int))\n",
        "      self.bigram_counts = defaultdict(lambda: defaultdict(int))\n",
        "      self.unigram_counts = defaultdict(int)\n",
        "      self.total_bigrams = 0\n",
        "      self.N = list()\n",
        "      self.trigramsDict = dict()\n",
        "  def train(self,tokens):\n",
        "      for i in range(2, len(tokens)):\n",
        "\n",
        "          trigram = (tokens[i-2],tokens[i-1], tokens[i])\n",
        "          # print(trigram)\n",
        "          # print(bigram)\n",
        "          self.trigram_counts[(trigram[0],trigram[1])][trigram[2]] += 1\n",
        "          self.bigram_counts[trigram[0]][trigram[1]] += 1\n",
        "          self.unigram_counts[trigram[0]] += 1\n",
        "          self.total_bigrams += 1\n",
        "\n",
        "  def calculateN(self,listTokens): \n",
        "        for i in range(1, len(listTokens)):\n",
        "            trigram = (listTokens[i-2],listTokens[i-1], listTokens[i])\n",
        "            first_word = trigram[0]\n",
        "            second_word = trigram[1]\n",
        "            third_word = trigram[2]\n",
        "            self.N.append(self.trigram_counts[(first_word,second_word)][third_word])\n",
        "        obs_count = {}\n",
        "        for item in self.N:\n",
        "            if item in obs_count:\n",
        "               obs_count[item] += 1\n",
        "            else:\n",
        "               obs_count[item] = 1\n",
        "        return obs_count\n",
        "  def get_trigram_probability(self, listOfTokens):\n",
        "        prob = 0.0\n",
        "        trigramms = dict()\n",
        "        for i in range(1, len(listOfTokens)):\n",
        "\n",
        "            trigram = (listOfTokens[i-2],listOfTokens[i-1], listOfTokens[i])\n",
        "            # print(bigram)\n",
        "            first_word = trigram[0]\n",
        "            second_word = trigram[1]\n",
        "            third_word = trigram[2]\n",
        "            Nc = self.N[self.trigram_counts[(trigram[0],trigram[1])][trigram[2]]] \n",
        "            Nnext = Nc + 1 \n",
        "            c = (self.trigram_counts[(trigram[0],trigram[1])][trigram[2]] + 1) * Nnext  / Nc\n",
        "            prob = c/len(self.N)\n",
        "            trigramms[trigram] = prob\n",
        "        self.trigramsDict = trigramms\n",
        "        return trigramms\n",
        "\n",
        "\n",
        "modelTrigramGoodTuring = TrigramGoodTuringSmoothingModel()\n",
        "\n",
        "trigramsTrain = modelTrigramGoodTuring.train(listOfTokens150)\n",
        "modelTrigramGoodTuring.calculateN(listOfTokens150)\n",
        "trigramms = modelTrigramGoodTuring.get_trigram_probability(listOfTokens150)\n",
        "\n",
        "def calcPerplexity(trigramms, listOfTokens):\n",
        "\n",
        "    perplexity = 0\n",
        "    N = len(listOfTokens)\n",
        "    prob = 0\n",
        "    for idx in range(2,len(listOfTokens)):\n",
        "        trigr = (listOfTokens[idx-2],listOfTokens[idx-1],listOfTokens[idx])\n",
        "        # print(bigr)\n",
        "        # print(bigrams[bi])\n",
        "        if trigr in trigramms.keys():\n",
        "          #  print(prob)\n",
        "           prob += math.log2(trigramms[trigr])\n",
        "        \n",
        "    \n",
        "    if prob != 0.0:\n",
        "       perplexity = (-prob/N)*100\n",
        "    # perplexity = pow(perplexity, 1/N)\n",
        "    return perplexity\n",
        "perpltrigrGT = calcPerplexity(trigramms,listOfTokensTest)\n",
        "print(perpltrigrGT)"
      ],
      "metadata": {
        "colab": {
          "base_uri": "https://localhost:8080/"
        },
        "id": "gT8fq-E1iodb",
        "outputId": "9351fb57-475d-4b58-c6c3-f2e98de5f51c"
      },
      "execution_count": 7,
      "outputs": [
        {
          "output_type": "stream",
          "name": "stdout",
          "text": [
            "514.7967908727604\n"
          ]
        }
      ]
    },
    {
      "cell_type": "code",
      "source": [
        "fig = plt.figure()\n",
        "ax = fig.add_axes([0,0,1,1])\n",
        "models = ['Bigrams Add-1', 'Bigrams Good Turing', 'Trigrams Add-1', 'Trigrams Good Turing']\n",
        "ppls = [perplexityAdd1bigr,perplexityGTbigr,perpltrigrAdd1,perpltrigrGT]\n",
        "ax.bar(models,ppls)\n",
        "ax.set_ylabel('Perplexity')\n",
        "plt.show()"
      ],
      "metadata": {
        "colab": {
          "base_uri": "https://localhost:8080/",
          "height": 336
        },
        "id": "9pyepELO10YY",
        "outputId": "8d4de947-e7fa-4e77-cb49-0f494307d9ab"
      },
      "execution_count": 8,
      "outputs": [
        {
          "output_type": "display_data",
          "data": {
            "text/plain": [
              "<Figure size 432x288 with 1 Axes>"
            ],
            "image/png": "[encoded data removed]"
          },
          "metadata": {
            "needs_background": "light"
          }
        }
      ]
    },
    {
      "cell_type": "markdown",
      "source": [
        "Αφου δημιουργήσαμε τα n-grams μοντέλα μας και αφού τα αξιολογήσαμε με βάση το perplexity στο test set, προκύτπει το παραπάνω bar plot. Σύμφωνα με αυτό θα πρέπει να επιλέξουμε το χαμηλότερο perplexity, καθώς αυτή η μετρική μας δείχνει πόσο καλά είναι πεπεισμένο ένα μοντέλο για την εκάστοτε πρόβλεψή του.\n",
        "Δηλαδή αντιστοιχεί στην ανάστροφη πιθανότητα. \n",
        "Επομένως για να κάνουμε generate προτάσεις θα μπορούσε κανείς να επιλέξει το Trigrams Add-1 smoothing. Πράγμα το οποίο είναι λογικό, διότι όσο πιο πολλά n-grams έχουμε τόσο ανεβαίνει και η απόδοση του μοντέλου. Εάν είχαμε πιο πολλά δεδομένα πιθανώς να μπορούσαμε να μειώσουμε την τιμή του perplexity, καθώς θα είχαμε μεγαλύτερες συχνότητες."
      ],
      "metadata": {
        "id": "PAiW03TP-Gtc"
      }
    },
    {
      "cell_type": "markdown",
      "source": [
        "## Generate Text"
      ],
      "metadata": {
        "id": "xnXwGOBioA5T"
      }
    },
    {
      "cell_type": "code",
      "source": [
        "import random\n",
        "import pandas as pd\n",
        "def generate_text(model, num_words):\n",
        "    myDict = dict()\n",
        "    \n",
        "    indicator = 0\n",
        "    if isinstance(model, BigramAdd1Smoothing):\n",
        "       myDict = model.bigrammsDict\n",
        "       indicator = 0\n",
        "    elif isinstance(model, BigramGoodTuringSmoothing):\n",
        "       myDict = model.bigrammsDict\n",
        "       indicator = 1\n",
        "    elif isinstance(model, TrigramAdd1SmoothingModel):\n",
        "       myDict = model.trigramsDict\n",
        "       indicator = 2\n",
        "    elif isinstance(model, TrigramGoodTuringSmoothingModel):\n",
        "       myDict = model.trigramsDict\n",
        "       indicator = 3  \n",
        "    # start with a random word\n",
        "    generated_text = list()\n",
        "    # context = dict()\n",
        "    # if indicator == 0:\n",
        "    #    if len(tokens) > 1:\n",
        "    #       for i in range(1,len(tokens)):\n",
        "    #           bigram = (tokens[i-1],tokens[i])\n",
        "    #           if i-1 == 0:              \n",
        "    #              generated_text.append(('<BOS>',bigram[0]))\n",
        "    #           # else:\n",
        "    #           generated_text.append(bigram)\n",
        "    #    else:\n",
        "    #        generated_text.append(('<BOS>',tokens[0]))\n",
        "    #    for ngram in generated_text:\n",
        "    #        first , second = myDict[ngram]\n",
        "    #        if first in context:\n",
        "    #           context[first].append(second)\n",
        "    #        else:\n",
        "    #           context[first] = [second]\n",
        "    # elif indicator == 1:\n",
        "    #    if len(tokens) > 1:\n",
        "    #       for i in range(1,len(tokens)):\n",
        "    #           bigram = (tokens[i-1],tokens[i])\n",
        "    #           if i-1 == 0:              \n",
        "    #              generated_text.append(('<BOS>',bigram[0]))\n",
        "              \n",
        "    #           generated_text.append(bigram)\n",
        "    #    else:\n",
        "    #        generated_text.append(('<BOS>',tokens[0]))\n",
        "    #    for ngram in generated_text:\n",
        "    #        first , second = myDict[ngram]\n",
        "    #        if first in context:\n",
        "    #           context[first].append(second)\n",
        "    #        else:\n",
        "    #           context[first] = [second]\n",
        "    # elif indicator == 2:\n",
        "    #    if len(tokens) > 2:\n",
        "    #       for i in range(2,len(tokens)):\n",
        "    #           trigram = (tokens[i-2],tokens[i-1],tokens[i])\n",
        "    #           if i-2 == 0:              \n",
        "    #              generated_text.append(('<BOS>',trigram[0],trigram[1]))\n",
        "              \n",
        "    #           generated_text.append(trigram)\n",
        "    #    else:\n",
        "    #        generated_text.append(('<BOS>',tokens[0]))\n",
        "    #        generated_text.append((tokens[0],tokens[1]))\n",
        "    #   #  for ngram in generated_text:\n",
        "    #   #      if ngram in myDict.keys():\n",
        "    #   #         first , second,third = myDict[ngram]\n",
        "    #   #         if first in context:\n",
        "    #   #             context[(first,second)].append(third)\n",
        "    #   #         else:\n",
        "    #   #             context[(first,second)] = [third]\n",
        "    # elif indicator == 3:\n",
        "    #    if len(tokens) > 2:\n",
        "    #       for i in range(2,len(tokens)):\n",
        "    #           trigram = (tokens[i-2],tokens[i-1],tokens[i])\n",
        "    #           if i-2 == 0:              \n",
        "    #              generated_text.append(('<BOS>',trigram[0],trigram[1]))\n",
        "              \n",
        "    #           generated_text.append(trigram)\n",
        "    #    else:\n",
        "    #        generated_text.append(('<BOS>',tokens[0]))\n",
        "    #        generated_text.append((tokens[0],tokens[1]))\n",
        "    #    for ngram in generated_text:\n",
        "    #        first , second,third = myDict[ngram]\n",
        "    #        if first in context:\n",
        "    #           context[(first,second)].append(third)\n",
        "    #        else:\n",
        "    #           context[(first,second)] = [third]\n",
        "    # print(generated_text)\n",
        "    current_word = random.choice(list(myDict))\n",
        "    \n",
        "    \n",
        "    current_word = '<BOS>' + ' ' +current_word[0]+ ' ' +current_word[1]  + ' ' +current_word[2]\n",
        "    generated_text.append(current_word)\n",
        "   \n",
        "    # add num_words words to the generated text\n",
        "    \n",
        "    for i in range(0,num_words):\n",
        "        # if current_word.endswith('<EOS>'):\n",
        "        #    break\n",
        "        maxProb = 0.0\n",
        "        current_word = generated_text[i]\n",
        "        # # get a list of all possible next words\n",
        "        tmp_cur_words =  current_word.split()\n",
        "        next_word = \"\"\n",
        "        prev_word = current_word[len(current_word)-1]\n",
        "        for ngram in myDict.keys():\n",
        "            # print(ngram)\n",
        "            # prev_word =\n",
        "            if myDict[ngram] >= maxProb:\n",
        "\n",
        "               maxProb = myDict[ngram]\n",
        "                  \n",
        "               next_word = ngram[0] + ' '+ ngram[1] + ' '+ngram[2]\n",
        "              #  myDict.pop(ngram) \n",
        "                  # print(next_word)\n",
        "               prev_word = next_word\n",
        "                  # break\n",
        "\n",
        "        # append the next word to the generated text\n",
        "        generated_text.append(next_word)\n",
        "\n",
        "        # update the current word\n",
        "        current_word = next_word\n",
        "        # print(current_word)\n",
        "    generated_text.append('<EOS>')\n",
        "    return ' '.join(generated_text)\n",
        "\n",
        " \n",
        "\n",
        "text = generate_text(modelTrigram,10)\n",
        "text2 = generate_text(modelTrigram,10)\n",
        "text3 = generate_text(modelTrigram,10)\n",
        "print(text)\n",
        "print(text2)\n",
        "print(text3)"
      ],
      "metadata": {
        "colab": {
          "base_uri": "https://localhost:8080/"
        },
        "id": "sUEB5ImwOjKr",
        "outputId": "0338618b-a479-47a1-9200-b91d570e01bb"
      },
      "execution_count": 10,
      "outputs": [
        {
          "output_type": "stream",
          "name": "stdout",
          "text": [
            "<BOS> 0 it needs <UNK> certain of <UNK> certain of <UNK> certain of <UNK> certain of <UNK> certain of <UNK> certain of <UNK> certain of <UNK> certain of <UNK> certain of <UNK> certain of <EOS>\n",
            "<BOS> to 10 on <UNK> certain of <UNK> certain of <UNK> certain of <UNK> certain of <UNK> certain of <UNK> certain of <UNK> certain of <UNK> certain of <UNK> certain of <UNK> certain of <EOS>\n",
            "<BOS> Japanese investment could <UNK> certain of <UNK> certain of <UNK> certain of <UNK> certain of <UNK> certain of <UNK> certain of <UNK> certain of <UNK> certain of <UNK> certain of <UNK> certain of <EOS>\n"
          ]
        }
      ]
    },
    {
      "cell_type": "markdown",
      "source": [
        "Παραπάνω δημιουργούμε τρεις προτάσεις. Επιλέγουμε τυχαία απο το test set κάποιο ngram και παράγουμε με βάση την πιθανότητα απο το train set το επόμενο token. Η μεγαλύτερη πιθανότητα κερδίζει."
      ],
      "metadata": {
        "id": "mgwtadV6LcxM"
      }
    },
    {
      "cell_type": "markdown",
      "source": [
        "# Character-based Language Models\n"
      ],
      "metadata": {
        "id": "yyreEfiBnTtw"
      }
    },
    {
      "cell_type": "markdown",
      "source": [
        "Ας δημιουργήσουμε τα μοντέλα μας τώρα σε επίπεδο χαρακτήρα. Πρακτικά θα έχουμε ακολουθίες χαρακτήρων και με βάση τις πιθανότητες θα προβλέψουμε τον επόμενο."
      ],
      "metadata": {
        "id": "urjFWfThL5QD"
      }
    },
    {
      "cell_type": "markdown",
      "source": [
        "## ADD-1 Smoothing 3-gram Model"
      ],
      "metadata": {
        "id": "gkyBlaramudS"
      }
    },
    {
      "cell_type": "code",
      "source": [
        "path = base_path + '/assignment1textfiles/sbd'\n",
        "class Trigram_ADD1Model(object):\n",
        " \n",
        "    def __init__(self):\n",
        "        self.trigram_counts = defaultdict(lambda: defaultdict(int))\n",
        "        self.bigram_counts = defaultdict(lambda: defaultdict(int))\n",
        "        self.unigram_counts = defaultdict(int)\n",
        "        self.trigramsDict = dict()\n",
        "        self.trigramsDictVal = dict()\n",
        "        self.X_train = list()\n",
        "        self.X_val = list()\n",
        "\n",
        "    def readData(self):\n",
        "        tmpX_train = list()\n",
        "        tmpX_val = list()\n",
        "        tmpX_test = list()\n",
        "        listDocsSpacyEL = list()\n",
        "        lookupDict = {'@':0,'~':1}\n",
        "        for file in os.listdir(path)[:10]: #train\n",
        "            if file.endswith(\".TXT\"):\n",
        "                file_path = f\"{path}/{file}\"\n",
        "                with open(file_path , 'r',encoding = 'utf-8') as f:\n",
        "                    tmpX_train.append(f.read().split('\\n'))\n",
        "\n",
        "        x = list()\n",
        "        for tokensList in tmpX_train:\n",
        "            \n",
        "            for token in tokensList:\n",
        "                # x = list()\n",
        "                token = token.replace(\"\\xad\",'-')\n",
        "                if len(token) > 4:\n",
        "                   chars = list(token)\n",
        "                   chars.insert(0,'@')\n",
        "                   chars.append('~')\n",
        "                   for c in range(2,len(chars)):\n",
        "                       # print(chars)\n",
        "                       x.append(chars[c-2])\n",
        "                       x.append(chars[c-1])\n",
        "                       x.append(chars[c])\n",
        "        frequenies = FreqDist(x)\n",
        "        for tokensList in tmpX_train:          \n",
        "             for c in range(2,len(chars)):\n",
        "                token = token.replace(\"\\xad\",'-')\n",
        "                if len(token) > 4:\n",
        "                   chars = list(token)\n",
        "                   chars.insert(0,'@')\n",
        "                   chars.append('~')\n",
        "                   if frequenies[chars[c-2]] > 5:   \n",
        "                      chars[c-2] = '*'\n",
        "                   if frequenies[chars[c-1]] > 5:   \n",
        "                      chars[c-1] = '*'\n",
        "                   if frequenies[chars[c]] > 5:\n",
        "                      chars[c]  = '*'\n",
        "\n",
        "                   self.X_train.append(((chars[c-2].lower(), chars[c-1].lower()),chars[c].lower()) ) \n",
        "\n",
        "        for file in os.listdir(path)[10:12]: #validation\n",
        "              if file.endswith(\".TXT\"):\n",
        "                  file_path = f\"{path}/{file}\"\n",
        "                  with open(file_path , 'r',encoding = 'utf-8') as f:\n",
        "                      tmpX_val.append(f.read().split('\\n'))\n",
        "\n",
        "        \n",
        "        for tokensList in tmpX_val:\n",
        "            for token in tokensList:\n",
        "                # x = list()\n",
        "                token = token.replace(\"\\xad\",'-')\n",
        "                if len(token) > 4:\n",
        "                    \n",
        "                    chars = list(token)\n",
        "                    chars.insert(0,'@')\n",
        "                    chars.append('~')\n",
        "                \n",
        "                    for c in range(2,len(chars)):\n",
        "                        if chars[c-2] not in x:\n",
        "                           chars[c-2] = '*'\n",
        "                        if chars[c-1] not in x:\n",
        "                           chars[c-1] = '*'\n",
        "                        if chars[c] not in x:\n",
        "                           chars[c] = '*'\n",
        "                        self.X_val.append(((chars[c-2].lower(), chars[c-1].lower()),chars[c].lower()) ) \n",
        "\n",
        "        # X_val.append(x)\n",
        "    def train(self):\n",
        "        for ngram in self.X_train:\n",
        "            values, label = ngram\n",
        "            self.trigram_counts[values][label] += 1\n",
        "            self.bigram_counts [values[0]][values[1]] += 1\n",
        "            self.unigram_counts[values[0]] += 1\n",
        "\n",
        "    def get_trigram_probability(self,data,evaluation = False):\n",
        "        prob = 0.0\n",
        "        trigramms = dict()\n",
        "        for ngram in data:\n",
        "\n",
        "            values, label = ngram\n",
        "            # print(bigram)\n",
        "            first_char = values[0]\n",
        "            second_char = values[1]\n",
        "            third_char = label\n",
        "            # if the bigram doesn't exist in our counts, then we need to\n",
        "            # return the probability of the unigram\n",
        "            if self.trigram_counts[(first_char,second_char)][third_char] == 0:\n",
        "                if self.bigram_counts[first_char][second_char] == 0:\n",
        "                   prob =  1.0 / (self.unigram_counts[first_char] + len(self.unigram_counts))\n",
        "                else:\n",
        "                   prob = 1.0 * self.bigram_counts[first_char][second_char] / self.unigram_counts[first_char]\n",
        "            # otherwise, we can just return the trigram probability\n",
        "            else:\n",
        "                prob = 1.0 * self.trigram_counts[(first_char,second_char)][third_char] / self.bigram_counts[first_char][second_char]\n",
        "            trigramms[ngram] = prob\n",
        "            # print(bigramms)\n",
        "            # if i == 10:\n",
        "            #   break\n",
        "        if evaluation == False:\n",
        "           self.trigramsDict = trigramms\n",
        "        else:\n",
        "           self.trigramsDictVal = trigramms\n",
        "        # return trigramms   \n",
        "        \n",
        "\n",
        "def calcPerplexity(model,trigram_dict):\n",
        "   \n",
        "    y_pred = list()\n",
        "    y_true = list()\n",
        "    \n",
        "    perplexity = 1000.0\n",
        "    count = 0\n",
        "    \n",
        "    probabilityMult = 0.00\n",
        "    count = 0\n",
        "    for ngram in trigram_dict:\n",
        "        # print(\"prob = \",model.trigramsDict[ngram])\n",
        "        if (trigram_dict[ngram] != 0):\n",
        "\n",
        "           probabilityMult += math.log2(trigram_dict[ngram])\n",
        "        #    count += 1\n",
        "        # else:\n",
        "        #    probabilityMult *=  0.001 #something too low \n",
        "  \n",
        "    if probabilityMult != 0.0:\n",
        "      perplexity = (-probabilityMult/len(model.X_val))*100\n",
        "\n",
        "    return perplexity\n",
        "\n",
        "trigrammodeladd1 = Trigram_ADD1Model()\n",
        "trigrammodeladd1.readData()\n",
        "trigrammodeladd1.train()\n",
        "trigrammodeladd1.get_trigram_probability(trigrammodeladd1.X_train)\n",
        "trigrammodeladd1.get_trigram_probability(trigrammodeladd1.X_val,True)\n",
        "perplexitytriadd1 = calcPerplexity(trigrammodeladd1,trigrammodeladd1.trigramsDictVal)\n",
        "print(perplexitytriadd1)\n"
      ],
      "metadata": {
        "id": "X0Pd9MYKnf2t",
        "colab": {
          "base_uri": "https://localhost:8080/"
        },
        "outputId": "3c6aeccc-c6db-4bcb-dc7f-817e00de45c3"
      },
      "execution_count": 11,
      "outputs": [
        {
          "output_type": "stream",
          "name": "stdout",
          "text": [
            "136.7202179767641\n"
          ]
        }
      ]
    },
    {
      "cell_type": "markdown",
      "source": [
        "## Good Turing Discount 3-gram Model"
      ],
      "metadata": {
        "id": "J0qaXKB0m3p3"
      }
    },
    {
      "cell_type": "code",
      "source": [
        "path = base_path + '/assignment1textfiles/sbd'\n",
        "class Trigram_GoodTuringSmoothingModel(object):\n",
        " \n",
        "    def __init__(self):\n",
        "        self.trigram_counts = defaultdict(lambda: defaultdict(int))\n",
        "        self.bigram_counts = defaultdict(lambda: defaultdict(int))\n",
        "        self.unigram_counts = defaultdict(int)\n",
        "        self.trigramsDict = dict()\n",
        "        self.trigramsDictVal = dict()\n",
        "        self.X_train = list()\n",
        "        self.X_val = list()\n",
        "        self.N = list()\n",
        "        self.Nval = list()\n",
        "\n",
        "    def readData(self):\n",
        "        tmpX_train = list()\n",
        "        tmpX_val = list()\n",
        "        tmpX_test = list()\n",
        "        listDocsSpacyEL = list()\n",
        "        lookupDict = {'@':0,'~':1}\n",
        "        for file in os.listdir(path)[:10]: #train\n",
        "            if file.endswith(\".TXT\"):\n",
        "                file_path = f\"{path}/{file}\"\n",
        "                with open(file_path , 'r',encoding = 'utf-8') as f:\n",
        "                    tmpX_train.append(f.read().split('\\n'))\n",
        "\n",
        "        \n",
        "        x = list()\n",
        "        for tokensList in tmpX_train:\n",
        "            \n",
        "            for token in tokensList:\n",
        "                # x = list()\n",
        "                token = token.replace(\"\\xad\",'-')\n",
        "                if len(token) > 4:\n",
        "                   chars = list(token)\n",
        "                   chars.insert(0,'@')\n",
        "                   chars.append('~')\n",
        "                   for c in range(2,len(chars)):\n",
        "                       # print(chars)\n",
        "                       x.append(chars[c-2])\n",
        "                       x.append(chars[c-1])\n",
        "                       x.append(chars[c])\n",
        "        frequenies = FreqDist(x)\n",
        "        for tokensList in tmpX_train:          \n",
        "             for c in range(2,len(chars)):\n",
        "                token = token.replace(\"\\xad\",'-')\n",
        "                if len(token) > 4:\n",
        "                   chars = list(token)\n",
        "                   chars.insert(0,'@')\n",
        "                   chars.append('~')\n",
        "                   if frequenies[chars[c-2]] > 5:   \n",
        "                      chars[c-2] = '*'\n",
        "                   if frequenies[chars[c-1]] > 5:   \n",
        "                      chars[c-1] = '*'\n",
        "                   if frequenies[chars[c]] > 5:\n",
        "                      chars[c]  = '*'\n",
        "\n",
        "                   self.X_train.append(((chars[c-2].lower(), chars[c-1].lower()),chars[c].lower()) ) \n",
        "        \n",
        "        for file in os.listdir(path)[10:12]: #validation\n",
        "              if file.endswith(\".TXT\"):\n",
        "                  file_path = f\"{path}/{file}\"\n",
        "                  with open(file_path , 'r',encoding = 'utf-8') as f:\n",
        "                      tmpX_val.append(f.read().split('\\n'))\n",
        "\n",
        "        \n",
        "        for tokensList in tmpX_val:\n",
        "            for token in tokensList:\n",
        "                # x = list()\n",
        "                token = token.replace(\"\\xad\",'-')\n",
        "                if len(token) > 4:\n",
        "                    \n",
        "                    chars = list(token)\n",
        "                    chars.insert(0,'@')\n",
        "                    chars.append('~')\n",
        "                \n",
        "                    for c in range(2,len(chars)):\n",
        "                        if chars[c-2] not in x:\n",
        "                           chars[c-2] = '*'\n",
        "                        if chars[c-1] not in x:\n",
        "                           chars[c-1] = '*'\n",
        "                        if chars[c] not in x:\n",
        "                           chars[c] = '*'\n",
        "                        self.X_val.append(((chars[c-2].lower(), chars[c-1].lower()),chars[c].lower()) )\n",
        "        \n",
        "    def train(self):\n",
        "        for ngram in self.X_train:\n",
        "            values, label = ngram\n",
        "            self.trigram_counts[values][label] += 1\n",
        "            self.bigram_counts [values[0]][values[1]] += 1\n",
        "            self.unigram_counts[values[0]] += 1\n",
        "\n",
        "    def calculateN(self,data,evaluation = False): \n",
        "        for ngram in data:\n",
        "            values, label = ngram\n",
        "            first_char = values[0]\n",
        "            second_char = values[1]\n",
        "            third_char = label\n",
        "            if evaluation == False:\n",
        "               self.N.append(self.trigram_counts[(first_char,second_char)][third_char])\n",
        "            else:\n",
        "               self.N.append(self.trigram_counts[(first_char,second_char)][third_char])\n",
        "            \n",
        "               \n",
        "        obs_count = {}\n",
        "        for item in self.N:\n",
        "            if item in obs_count:\n",
        "               obs_count[item] += 1\n",
        "            else:\n",
        "               obs_count[item] = 1\n",
        "        return obs_count\n",
        "    def get_trigram_probability(self,data, obs_count,evaluate = False): #obs_count as arg\n",
        "        prob = 0.0\n",
        "        trigramms = dict()\n",
        "        for ngram in data:\n",
        "\n",
        "            values, label = ngram\n",
        "            # print(bigram)\n",
        "            first_char = values[0]\n",
        "            second_char = values[1]\n",
        "            third_char = label\n",
        "            Nc = obs_count[self.trigram_counts[(first_char,second_char)][third_char]] \n",
        "            Nnext = Nc + 1 \n",
        "            c = (self.trigram_counts[(first_char,second_char)][third_char] + 1) * Nnext  / Nc\n",
        "            prob = c/len(self.N)\n",
        "            trigramms[ngram] = prob\n",
        "        if evaluate == False:    \n",
        "           self.trigramsDict = trigramms\n",
        "        else:\n",
        "           self.trigramsDictVal = trigramms\n",
        "        return trigramms\n",
        "\n",
        "        \n",
        "\n",
        "def calcPerplexity(model,diction):\n",
        "   \n",
        "    y_pred = list()\n",
        "    y_true = list()\n",
        "    \n",
        "    perplexity = 1000.0\n",
        "    count = 0\n",
        "    \n",
        "    probabilityMult = 1.00\n",
        "    count = 0\n",
        "    for ngram in diction:\n",
        "        # print(\"prob = \",model.trigramsDict[ngram])\n",
        "        if (diction[ngram] != 0):\n",
        "\n",
        "           probabilityMult += math.log2(diction[ngram])\n",
        "        #    count += 1\n",
        "        # else:\n",
        "        #    probabilityMult *=  0.001 #something too low \n",
        "  \n",
        "    if probabilityMult != 0.0:\n",
        "      perplexity = (-probabilityMult/len(model.X_val))*100\n",
        "\n",
        "    return perplexity\n",
        "\n",
        "trigrammodelGT = Trigram_GoodTuringSmoothingModel()\n",
        "trigrammodelGT.readData()\n",
        "trigrammodelGT.train()\n",
        "tr = trigrammodelGT.calculateN(trigrammodelGT.X_train)\n",
        "val = trigrammodelGT.calculateN(trigrammodelGT.X_val,True)\n",
        "t = trigrammodelGT.get_trigram_probability(trigrammodelGT.X_train,tr)\n",
        "t2 = trigrammodelGT.get_trigram_probability(trigrammodelGT.X_val,val,True)\n",
        "perplexitytriGT = calcPerplexity(trigrammodelGT,t2)\n",
        "print(perplexitytriGT)"
      ],
      "metadata": {
        "id": "85E8Q_e-m9FT",
        "colab": {
          "base_uri": "https://localhost:8080/"
        },
        "outputId": "61b703c3-f10e-4ed8-f7b8-6556e3708fe3"
      },
      "execution_count": 12,
      "outputs": [
        {
          "output_type": "stream",
          "name": "stdout",
          "text": [
            "341.3809344142894\n"
          ]
        }
      ]
    },
    {
      "cell_type": "markdown",
      "source": [
        "## 4-grams με Add-1 Smoothing"
      ],
      "metadata": {
        "id": "X5VCku51voSE"
      }
    },
    {
      "cell_type": "code",
      "source": [
        "path = base_path + '/assignment1textfiles/sbd'\n",
        "class Fourgram_ADD1Model(object):\n",
        " \n",
        "    def __init__(self):\n",
        "        self.fourgram_counts = defaultdict(lambda: defaultdict(int))\n",
        "        self.trigram_counts = defaultdict(lambda: defaultdict(int))\n",
        "        self.bigram_counts = defaultdict(lambda: defaultdict(int))\n",
        "        self.unigram_counts = defaultdict(int)\n",
        "        self.fourgramsDict = dict()\n",
        "        self.X_train = list()\n",
        "        self.X_val = list()\n",
        "\n",
        "    def readData(self):\n",
        "        tmpX_train = list()\n",
        "        tmpX_val = list()\n",
        "        tmpX_test = list()\n",
        "        # lookupDict = {'@':0,'~':1}\n",
        "        for file in os.listdir(path)[:10]: #train\n",
        "            if file.endswith(\".TXT\"):\n",
        "                file_path = f\"{path}/{file}\"\n",
        "                with open(file_path , 'r',encoding = 'utf-8') as f:\n",
        "                    tmpX_train.append(f.read().split('\\n'))\n",
        "\n",
        "        \n",
        "        x = list()\n",
        "        for tokensList in tmpX_train:\n",
        "            \n",
        "            for token in tokensList:\n",
        "                # x = list()\n",
        "                token = token.replace(\"\\xad\",'-')\n",
        "                if len(token) > 4:\n",
        "                   chars = list(token)\n",
        "                   chars.insert(0,'@')\n",
        "                   chars.append('~')\n",
        "                   for c in range(3,len(chars)):\n",
        "                       # print(chars)\n",
        "                       x.append(chars[c-3])\n",
        "                       x.append(chars[c-2])\n",
        "                       x.append(chars[c-1])\n",
        "                       x.append(chars[c])\n",
        "        frequenies = FreqDist(x)\n",
        "        for tokensList in tmpX_train:          \n",
        "             for c in range(3,len(chars)):\n",
        "                token = token.replace(\"\\xad\",'-')\n",
        "                if len(token) > 4:\n",
        "                   chars = list(token)\n",
        "                   chars.insert(0,'@')\n",
        "                   chars.append('~')\n",
        "                   if frequenies[chars[c-3]] > 5:\n",
        "                      chars[c-3] = '*'\n",
        "                   if frequenies[chars[c-2]] > 5:   \n",
        "                      chars[c-2] = '*'\n",
        "                   if frequenies[chars[c-1]] > 5:   \n",
        "                      chars[c-1] = '*'\n",
        "                   if frequenies[chars[c]] > 5:\n",
        "                      chars[c]  = '*'\n",
        "\n",
        " \n",
        "                   self.X_train.append(((chars[c-3],chars[c-2].lower(), chars[c-1].lower()),chars[c].lower()) )\n",
        "        for file in os.listdir(path)[10:12]: #validation\n",
        "              if file.endswith(\".TXT\"):\n",
        "                  file_path = f\"{path}/{file}\"\n",
        "                  with open(file_path , 'r',encoding = 'utf-8') as f:\n",
        "                      tmpX_val.append(f.read().split('\\n'))\n",
        "\n",
        "        \n",
        "        for tokensList in tmpX_val:\n",
        "            for token in tokensList:\n",
        "                # x = list()\n",
        "                token = token.replace(\"\\xad\",'-')\n",
        "                if len(token) > 4:\n",
        "                    \n",
        "                    chars = list(token)\n",
        "                    chars.insert(0,'@')\n",
        "                    chars.append('~')\n",
        "                \n",
        "                    for c in range(3,len(chars)):\n",
        "                        if chars[c-3] not in x:\n",
        "                           chars[c-3] = '*'\n",
        "                        if chars[c-2] not in x:\n",
        "                           chars[c-2] = '*'\n",
        "                        if chars[c-1] not in x:\n",
        "                           chars[c-1] = '*'\n",
        "                        if chars[c] not in x:\n",
        "                           chars[c] = '*'\n",
        "                        self.X_val.append(((chars[c-3].lower(), chars[c-2].lower(),chars[c-1].lower()),chars[c].lower()) ) \n",
        "        \n",
        "    def train(self):\n",
        "        for ngram in self.X_train:\n",
        "            values, label = ngram\n",
        "            self.fourgram_counts[values][label] += 1\n",
        "            self.trigram_counts[(values[0],values[1])][values[2]] += 1\n",
        "            self.bigram_counts [values[0]][values[1]] += 1\n",
        "            self.unigram_counts[values[0]] += 1\n",
        "\n",
        "    def get_fourgram_probability(self,data,evaluation=False):\n",
        "        prob = 0.0\n",
        "        fourgramms = dict()\n",
        "        for ngram in data:\n",
        "\n",
        "            values, label = ngram\n",
        "            # print(bigram)\n",
        "            first_char = values[0]\n",
        "            second_char = values[1]\n",
        "            third_char = values[2]\n",
        "            fourth_char = label\n",
        "       \n",
        "            if self.fourgram_counts[(first_char,second_char,third_char)][fourth_char] == 0:\n",
        "                if self.trigram_counts[(first_char,second_char)][third_char] == 0:\n",
        "                   if self.bigram_counts[first_char][second_char] == 0:\n",
        "                      prob =  1.0 / (self.unigram_counts[first_char] + len(self.unigram_counts))\n",
        "                   else:\n",
        "                      prob = 1.0 * self.bigram_counts[first_char][second_char] / self.unigram_counts[first_char]\n",
        "                else:\n",
        "                   prob = 1.0 * self.trigram_counts[(first_char,second_char)][third_char] / self.bigram_counts[first_char][second_char]\n",
        "            else:\n",
        "                prob = 1.0 * self.fourgram_counts[(first_char,second_char,third_char)][fourth_char] / self.trigram_counts[(first_char,second_char)][third_char]\n",
        "            fourgramms[ngram] = prob\n",
        "        if evaluation == False:\n",
        "           self.fourgramsDict = trigramms\n",
        "        else:\n",
        "           self.fourgramsDict = trigramms\n",
        "        # self.fourgramsDict = fourgramms\n",
        "        return fourgramms   \n",
        "        \n",
        "\n",
        "def calcPerplexity(model,dictio):\n",
        "    \n",
        "    perplexity = 1000.0\n",
        "    count = 0\n",
        "    \n",
        "    probabilityMult = 0.00\n",
        "    count = 0\n",
        "    for ngram in dictio:\n",
        "        # print(\"prob = \",model.trigramsDict[ngram])\n",
        "        if (dictio[ngram] != 0):\n",
        "\n",
        "           probabilityMult += math.log2(dictio[ngram])\n",
        "        #    count += 1\n",
        "        # else:\n",
        "        #    probabilityMult *=  0.001 #something too low \n",
        "  \n",
        "    if probabilityMult != 0.0:\n",
        "      perplexity = (-probabilityMult/len(model.X_val))*100\n",
        "\n",
        "    return perplexity\n",
        "\n",
        "fourgrammodeladd1 = Fourgram_ADD1Model()\n",
        "fourgrammodeladd1.readData()\n",
        "fourgrammodeladd1.train()\n",
        "t = fourgrammodeladd1.get_fourgram_probability(fourgrammodeladd1.X_train)\n",
        "t2 = fourgrammodeladd1.get_fourgram_probability(fourgrammodeladd1.X_val,True)\n",
        "perplexityfourAdd1 = calcPerplexity(fourgrammodeladd1,t2)\n",
        "print(perplexityfourAdd1)"
      ],
      "metadata": {
        "id": "dic5LRB3qS8v",
        "colab": {
          "base_uri": "https://localhost:8080/"
        },
        "outputId": "9e0bb0c8-dbb7-4eaf-ab70-e5d2fe4d05b4"
      },
      "execution_count": 13,
      "outputs": [
        {
          "output_type": "stream",
          "name": "stdout",
          "text": [
            "246.46485226052195\n"
          ]
        }
      ]
    },
    {
      "cell_type": "markdown",
      "source": [
        "## 4-grams με Good Turing Discount"
      ],
      "metadata": {
        "id": "QdYpnW44yScO"
      }
    },
    {
      "cell_type": "code",
      "source": [
        "path = base_path + '/assignment1textfiles/sbd'\n",
        "class Fourgram_GoodTuringModel(object):\n",
        " \n",
        "    def __init__(self):\n",
        "        self.fourgram_counts = defaultdict(lambda: defaultdict(int))\n",
        "        self.trigram_counts = defaultdict(lambda: defaultdict(int))\n",
        "        self.bigram_counts = defaultdict(lambda: defaultdict(int))\n",
        "        self.unigram_counts = defaultdict(int)\n",
        "        self.fourgramsDict = dict()\n",
        "        self.X_train = list()\n",
        "        self.X_val= list()\n",
        "        self.N = list()\n",
        "\n",
        "    def readData(self):\n",
        "        tmpX_train = list()\n",
        "        tmpX_val = list()\n",
        "        tmpX_test = list()\n",
        "        # lookupDict = {'@':0,'~':1}\n",
        "        for file in os.listdir(path)[:10]: #train\n",
        "            if file.endswith(\".TXT\"):\n",
        "                file_path = f\"{path}/{file}\"\n",
        "                with open(file_path , 'r',encoding = 'utf-8') as f:\n",
        "                    tmpX_train.append(f.read().split('\\n'))\n",
        "\n",
        "        \n",
        "                x = list()\n",
        "        for tokensList in tmpX_train:\n",
        "            \n",
        "            for token in tokensList:\n",
        "                # x = list()\n",
        "                token = token.replace(\"\\xad\",'-')\n",
        "                if len(token) > 4:\n",
        "                   chars = list(token)\n",
        "                   chars.insert(0,'@')\n",
        "                   chars.append('~')\n",
        "                   for c in range(3,len(chars)):\n",
        "                       # print(chars)\n",
        "                       x.append(chars[c-3])\n",
        "                       x.append(chars[c-2])\n",
        "                       x.append(chars[c-1])\n",
        "                       x.append(chars[c])\n",
        "        frequenies = FreqDist(x)\n",
        "        for tokensList in tmpX_train:          \n",
        "             for c in range(3,len(chars)):\n",
        "                token = token.replace(\"\\xad\",'-')\n",
        "                if len(token) > 4:\n",
        "                   chars = list(token)\n",
        "                   chars.insert(0,'@')\n",
        "                   chars.append('~')\n",
        "                   if frequenies[chars[c-3]] > 5:\n",
        "                      chars[c-3] = '*'\n",
        "                   if frequenies[chars[c-2]] > 5:   \n",
        "                      chars[c-2] = '*'\n",
        "                   if frequenies[chars[c-1]] > 5:   \n",
        "                      chars[c-1] = '*'\n",
        "                   if frequenies[chars[c]] > 5:\n",
        "                      chars[c]  = '*'\n",
        "\n",
        " \n",
        "                   self.X_train.append(((chars[c-3],chars[c-2].lower(), chars[c-1].lower()),chars[c].lower()) )\n",
        "        for file in os.listdir(path)[10:12]: #validation\n",
        "              if file.endswith(\".TXT\"):\n",
        "                  file_path = f\"{path}/{file}\"\n",
        "                  with open(file_path , 'r',encoding = 'utf-8') as f:\n",
        "                      tmpX_val.append(f.read().split('\\n'))\n",
        "\n",
        "        \n",
        "        for tokensList in tmpX_val:\n",
        "            for token in tokensList:\n",
        "                # x = list()\n",
        "                token = token.replace(\"\\xad\",'-')\n",
        "                if len(token) > 4:\n",
        "                    \n",
        "                    chars = list(token)\n",
        "                    chars.insert(0,'@')\n",
        "                    chars.append('~')\n",
        "                \n",
        "                    for c in range(3,len(chars)):\n",
        "                        if chars[c-3] not in x:\n",
        "                           chars[c-3] = '*'\n",
        "                        if chars[c-2] not in x:\n",
        "                           chars[c-2] = '*'\n",
        "                        if chars[c-1] not in x:\n",
        "                           chars[c-1] = '*'\n",
        "                        if chars[c] not in x:\n",
        "                           chars[c] = '*'\n",
        "                        self.X_val.append(((chars[c-3].lower(), chars[c-2].lower(),chars[c-1].lower()),chars[c].lower()) )    \n",
        "    def train(self):\n",
        "        for ngram in self.X_train:\n",
        "            values, label = ngram\n",
        "            self.fourgram_counts[values][label] += 1\n",
        "            self.trigram_counts[(values[0],values[1])][values[2]] += 1\n",
        "            self.bigram_counts [values[0]][values[1]] += 1\n",
        "            self.unigram_counts[values[0]] += 1\n",
        "\n",
        "    def calculateN(self,data): \n",
        "        for ngram in data:\n",
        "            values, label = ngram\n",
        "            first_char = values[0]\n",
        "            second_char = values[1]\n",
        "            third_char = values[2]\n",
        "            fourth_char = label\n",
        "            self.N.append(self.fourgram_counts[(first_char,second_char,third_char)][fourth_char])\n",
        "        obs_count = {}\n",
        "        for item in self.N:\n",
        "            if item in obs_count:\n",
        "               obs_count[item] += 1\n",
        "            else:\n",
        "               obs_count[item] = 1\n",
        "        return obs_count\n",
        "    def get_fourgram_probability(self,data,obs_count, evaluation=False):\n",
        "        prob = 0.0\n",
        "        fourgramms = dict()\n",
        "        for ngram in data:\n",
        "\n",
        "            values, label = ngram\n",
        "            # print(bigram)\n",
        "            first_char = values[0]\n",
        "            second_char = values[1]\n",
        "            third_char = values[2]\n",
        "            fourth_char = label\n",
        "            Nc = obs_count[self.fourgram_counts[(first_char,second_char,third_char)][fourth_char]] \n",
        "            Nnext = Nc + 1 \n",
        "            c = (self.fourgram_counts[(first_char,second_char,third_char)][fourth_char] + 1) * Nnext  / Nc\n",
        "            prob = c/len(self.N)\n",
        "            fourgramms[ngram] = prob\n",
        "        self.fourgramsDict = fourgramms\n",
        "        return fourgramms\n",
        "        \n",
        "\n",
        "def calcPerplexity(model,dictio):\n",
        "\n",
        "    perplexity = 1000.0\n",
        "    count = 0\n",
        "    \n",
        "    probabilityMult = 0.00\n",
        "    count = 0\n",
        "    for ngram in dictio:\n",
        "        # print(\"prob = \",model.trigramsDict[ngram])\n",
        "        if (dictio[ngram] != 0):\n",
        "\n",
        "           probabilityMult += math.log2(dictio[ngram])\n",
        "        #    count += 1\n",
        "        # else:\n",
        "        #    probabilityMult *=  0.001 #something too low \n",
        "  \n",
        "    if probabilityMult != 0.0:\n",
        "      perplexity = (-probabilityMult/len(model.X_val))*100\n",
        "\n",
        "    return perplexity\n",
        "\n",
        "fourgrammodelGT = Fourgram_GoodTuringModel()\n",
        "fourgrammodelGT.readData()\n",
        "fourgrammodelGT.train()\n",
        "tr = fourgrammodelGT.calculateN(fourgrammodelGT.X_train)\n",
        "val = fourgrammodelGT.calculateN(fourgrammodelGT.X_val)\n",
        "t = fourgrammodelGT.get_fourgram_probability(fourgrammodelGT.X_train,tr)\n",
        "t2 = fourgrammodelGT.get_fourgram_probability(fourgrammodelGT.X_val,val,True)\n",
        "\n",
        "perplexityfourGT = calcPerplexity(fourgrammodelGT,t2)\n",
        "print(perplexityfourGT)"
      ],
      "metadata": {
        "id": "aKZcPNPmv7tQ",
        "colab": {
          "base_uri": "https://localhost:8080/"
        },
        "outputId": "308e7f33-288b-4a55-c8ca-d896b711314b"
      },
      "execution_count": 14,
      "outputs": [
        {
          "output_type": "stream",
          "name": "stdout",
          "text": [
            "610.9212997670903\n"
          ]
        }
      ]
    },
    {
      "cell_type": "code",
      "source": [
        "fig = plt.figure()\n",
        "ax = fig.add_axes([0,0,1,1])\n",
        "models = ['Trigrams Add-1', 'Trigrams Good Turing', 'Fourgrams Add-1', 'Fourgrams Good Turing']\n",
        "ppls = [perplexitytriadd1,perplexitytriGT,perplexityfourAdd1,perplexityfourGT]\n",
        "ax.bar(models,ppls)\n",
        "ax.set_ylabel('Perplexity')\n",
        "plt.show()"
      ],
      "metadata": {
        "colab": {
          "base_uri": "https://localhost:8080/",
          "height": 336
        },
        "id": "PnmcKfmNJjnf",
        "outputId": "faef3e8f-7ca2-4809-d099-30578fa4a104"
      },
      "execution_count": 15,
      "outputs": [
        {
          "output_type": "display_data",
          "data": {
            "text/plain": [
              "<Figure size 432x288 with 1 Axes>"
            ],
            "image/png": "[encoded data removed]"
          },
          "metadata": {
            "needs_background": "light"
          }
        }
      ]
    },
    {
      "cell_type": "markdown",
      "source": [
        "Απο τα παραπάνω Plots καταλαβαίνουμε, οτι το καλύτερο μοντέλο είναι το Trigrams-Add-1."
      ],
      "metadata": {
        "id": "PI_FLpSKRnWE"
      }
    },
    {
      "cell_type": "markdown",
      "source": [
        "# Neural Language Models"
      ],
      "metadata": {
        "id": "rIvudNPVwlib"
      }
    },
    {
      "cell_type": "code",
      "source": [
        "import torch\n",
        "import torch.nn as nn\n",
        "from torch.nn import functional as F\n",
        "from torch.autograd import Variable\n",
        "import numpy as np\n",
        "import os\n",
        "from tensorflow.keras.utils import to_categorical\n",
        "# from torch.nn.utils.rnn import pad_sequence\n",
        "# import tensorflow as tf\n",
        "from keras.preprocessing.sequence import pad_sequences\n",
        "# from sklearn.metrics import \n",
        "import math\n",
        "from sklearn.metrics import f1_score"
      ],
      "metadata": {
        "id": "QXrxfYSfwtzH"
      },
      "execution_count": 16,
      "outputs": []
    },
    {
      "cell_type": "markdown",
      "source": [
        "## Pre-processing tokens"
      ],
      "metadata": {
        "id": "ysz1_sYs93EZ"
      }
    },
    {
      "cell_type": "markdown",
      "source": [
        "Αρχικά θα επεξεργαστούμε τα tokens που διαθέτουμε ώστε να να τα μετατρέψουμε σε απλούς αριθμούς για να μπορέσουμε μετά να δημιουργήσουμε Tensor, το οποίο θα μπεί ως είσοδος στο εκάστοτε νευρωνικό δίκτυο. "
      ],
      "metadata": {
        "id": "7Ei5NF_rWl4b"
      }
    },
    {
      "cell_type": "code",
      "source": [
        "device = torch.device('cuda' if torch.cuda.is_available() else 'cpu')\n",
        "tmpX_train = list()\n",
        "tmpX_val = list()\n",
        "tmpX_test = list()\n",
        "listDocsSpacyEL = list()\n",
        "lookupDict = {'@':0,'~':1}\n",
        "for file in os.listdir(path)[:8]: #train\n",
        "    if file.endswith(\".TXT\"):\n",
        "         file_path = f\"{path}/{file}\"\n",
        "         with open(file_path , 'r',encoding = 'utf-8') as f:\n",
        "             tmpX_train.append(f.read().split('\\n'))\n",
        "\n",
        "X_train = list()\n",
        "for tokensList in tmpX_train:\n",
        "    \n",
        "    for token in tokensList:\n",
        "        # x = list()\n",
        "        token = token.replace(\"\\xad\",'-')\n",
        "\n",
        "        X_train.append('@'+token.lower()+'~')\n",
        "\n",
        "print(X_train[0:10])\n",
        "vocb = {'α','β','γ','δ','ε','ζ','η','θ','ι','κ','λ','μ','ν','ξ','ο','π','ρ','σ',\n",
        "        'ς','τ','υ','φ','χ','ψ','ω','ί','ϊ','ΐ','ό','ά','έ','ύ','ϋ','ΰ','ή','ώ','%',';','.','!',':','-',\n",
        "        '(',')',',','>','<','0','1','2','3','4','5','6','7','8','9','@','~','«','»',\"'\",'/','·','\"',\n",
        "        'a','b','c','d','e','f','g','h','i','j','k','l','m','n','o','p','q','r','s','t','u','v','w','x','y','z'}\n",
        "char_to_idx = {char: i for i, char in enumerate(vocb)}\n",
        "idx_to_char = {char_to_idx[char]: char for char in char_to_idx}\n",
        "print(char_to_idx)\n",
        "# y_train = to_categorical(y_train,len(x_train))\n",
        "\n",
        "\n",
        "for file in os.listdir(path)[8:10]: #validation\n",
        "    if file.endswith(\".TXT\"):\n",
        "         file_path = f\"{path}/{file}\"\n",
        "         with open(file_path , 'r',encoding = 'utf-8') as f:\n",
        "             tmpX_val.append(f.read().split('\\n'))\n",
        "\n",
        "X_val = list()\n",
        "for tokensList in tmpX_val:\n",
        "    for token in tokensList:\n",
        "        # x = list()\n",
        "        token = token.replace(\"\\xad\",'-')\n",
        "        X_val.append('@'+token.lower()+'~')\n",
        "        # X_val.append(x)\n",
        "\n",
        "for file in os.listdir(path)[10:12]: #validation\n",
        "    if file.endswith(\".TXT\"):\n",
        "         file_path = f\"{path}/{file}\"\n",
        "         with open(file_path , 'r',encoding = 'utf-8') as f:\n",
        "             tmpX_test.append(f.read().split('\\n'))\n",
        "\n",
        "            \n",
        "X_test = list()\n",
        "for tokensList in tmpX_test:\n",
        "    for token in tokensList:\n",
        "        # x = list()\n",
        "        token = token.replace(\"\\xad\",'-')\n",
        "        X_test.append('@'+token.lower()+'~')"
      ],
      "metadata": {
        "colab": {
          "base_uri": "https://localhost:8080/"
        },
        "id": "VxyWs9RWs9Kn",
        "outputId": "5beecedb-46a5-4e14-e32d-6b247e678aaa"
      },
      "execution_count": 17,
      "outputs": [
        {
          "output_type": "stream",
          "name": "stdout",
          "text": [
            "['@αυτες~', '@τις~', '@άγιες~', '@μέρες~', '@οι~', '@άνθρωποι~', '@γιορτάζουν~', '@απολαμβάνοντας~', '@τα~', '@αγαθά~']\n",
            "{'>': 0, 't': 1, '\"': 2, ';': 3, '1': 4, 's': 5, 'λ': 6, 'y': 7, 'ϋ': 8, 'δ': 9, 'ς': 10, 'ό': 11, 'ύ': 12, 'β': 13, 'ή': 14, 'j': 15, 'ξ': 16, '~': 17, 'm': 18, 'i': 19, 'ά': 20, 'ο': 21, 'x': 22, 'μ': 23, '3': 24, 'h': 25, 'p': 26, 'ί': 27, '0': 28, 'ΐ': 29, 'έ': 30, 'z': 31, 'k': 32, 'ζ': 33, 'q': 34, 'π': 35, 'a': 36, 'ϊ': 37, ',': 38, 'γ': 39, 'f': 40, '5': 41, 'e': 42, '9': 43, 'u': 44, 'ψ': 45, 'τ': 46, '-': 47, '»': 48, 'c': 49, 'ι': 50, '%': 51, 'v': 52, 'o': 53, 'φ': 54, 'ε': 55, 'ώ': 56, 'ω': 57, 'ΰ': 58, '!': 59, '<': 60, '«': 61, '·': 62, '2': 63, 'r': 64, 'α': 65, 'ρ': 66, 'θ': 67, '4': 68, 'g': 69, 'σ': 70, 'ν': 71, 'w': 72, 'η': 73, '6': 74, ':': 75, 'd': 76, 'n': 77, '(': 78, ')': 79, \"'\": 80, 'l': 81, 'b': 82, 'υ': 83, 'κ': 84, '7': 85, '@': 86, '8': 87, '.': 88, '/': 89, 'χ': 90}\n"
          ]
        }
      ]
    },
    {
      "cell_type": "markdown",
      "source": [
        "Όπως θα δούμε απο το output εφόσον έχουμε μοντέλα σε επίπεδο χαρακτήρα, θα πρέπει να αντιστοιχήσουμε τον εκάστοτε χαρακτήρα σε έναν αριθμό. Για αυτό τον λόγο φτιάξαμε ένα lookup dictionary όπου θα αποτελεί το λεξικό μας για να μπορέσουμε να κάνουμε και την ανάποδη διαδικασία κατα το prediction. Πρακτικά τα target labels μας, είναι το λεξικό που δημιουργήσαμε με τους χαρακτήρες. "
      ],
      "metadata": {
        "id": "ay7Ag9ImXFjX"
      }
    },
    {
      "cell_type": "markdown",
      "source": [
        "Θα χρησιμοποιήσουμε Embedding Layer σας πρώτο Layer των Νευρωνικών. Πρακτικά τα Embeddings είναι η αναπαράσταση του κάθε χαρακτήρα σε μορφή Vector. "
      ],
      "metadata": {
        "id": "oxTfWhn_OemN"
      }
    },
    {
      "cell_type": "markdown",
      "source": [
        "## Feedforward NN"
      ],
      "metadata": {
        "id": "Pg0cy534vCo-"
      }
    },
    {
      "cell_type": "markdown",
      "source": [
        "Παρακάτω δημιουργούμε ένα απλό FeedForward Neural Network, το οποίο παίρνει μια είσοδο απο χαρακτήρες σε μορφή Long Tensor, υπολογίζει τα εσωτερικά γινόμενα για κάθε είσοδο με τα αρχικά βάρη, κάνει διαδικασία Gradient Descent για το update των βαρών, με σκοπό να βγάλει το τελικό output. Το Output αυτό θα είναι η πιθανότητα για κάθε χαρακτήρα, καθώς χρησιμοπούμε την συνάρτηση ενεργοποίησης Softmax.  "
      ],
      "metadata": {
        "id": "GJzYZ31iMgxr"
      }
    },
    {
      "cell_type": "code",
      "source": [
        "class Net(nn.Module):\n",
        "   def __init__(self,input_size,hidden_size,num_layers,output_size):\n",
        "        super(Net, self).__init__()\n",
        "        self.hidden_size = hidden_size\n",
        "        self.num_layers = num_layers\n",
        "\n",
        "        self.emb = nn.Embedding(input_size,hidden_size).to(device)\n",
        "        self.fw = nn.Linear(num_layers,output_size).to(device)\n",
        "        # self.hiddenLayer = nn.Linear(hidden_size,output_size).to(device)\n",
        "        self.activation_func = nn.Softmax()\n",
        "\n",
        "        \n",
        "   def forward(self, x):\n",
        "        # print(x.shape)\n",
        "        x = self.emb(x)\n",
        "        # print(x.shape)\n",
        "        x = x.view(1,-1)\n",
        "        # x = x.unsqueeze(-3)\n",
        "        x= self.fw(x)\n",
        "   \n",
        "        # x = self.fw(x.reshape(x.shape[0],-1))\n",
        "        x = self.activation_func(x)\n",
        "\n",
        "       \n",
        "        return x \n",
        "\n",
        "  #  def init_hidden(self, batch_size):\n",
        "  #      hidden = torch.zeros(self.num_layers, batch_size, self.hidden_size).to(device)\n",
        "  #     #  cell = torch.zeros(self.num_layers, batch_size, self.hidden_size).to(device)\n",
        "  #      return hidden\n",
        "    "
      ],
      "metadata": {
        "id": "57H_mAClTv4U"
      },
      "execution_count": 25,
      "outputs": []
    },
    {
      "cell_type": "code",
      "source": [
        "import random\n",
        "import matplotlib.pyplot as plt\n",
        "\n",
        "val_lossList = list()\n",
        "train_lossList = list()\n",
        "valPerplexityFW = list()\n",
        "def evaluate(genereator,model,lossFunc,x_val,y_val,bz):\n",
        "    val_loss = 0\n",
        "    with torch.no_grad():\n",
        "        # state = genereator.Net.init_hidden(batch_size = bz)\n",
        "        for c in range(genereator.chunk_len):\n",
        "            output = genereator.Net(x_val[:,c])\n",
        "            val_loss += lossFunc(output,y_val[:,c])\n",
        "        val_loss = val_loss.item()/genereator.chunk_len\n",
        "    return val_loss\n",
        "class Generator():\n",
        "  def __init__(self):\n",
        "      self.chunk_len = 250 #no Of chars\n",
        "      self.num_epochs = 10\n",
        "      self.batch_size = 1\n",
        "      self.print_every = 1\n",
        "      self.hidden_size = 10\n",
        "      self.num_layers = 10\n",
        "      self.lr = 0.001\n",
        "  def char_To_tensor(self,stringValue):\n",
        "      tensor = torch.zeros(len(stringValue)).long()\n",
        "      # print(stringValue)\n",
        "      for c in range(len(stringValue)-1):\n",
        "          chars = list(stringValue[c])\n",
        "          for i in chars:\n",
        "              # print(i)\n",
        "              tensor[c] = char_to_idx[i]\n",
        "      return tensor\n",
        "\n",
        "  def get_batch(self,data):\n",
        "      start = random.randint(0,len(data)- self.chunk_len)\n",
        "      end = start + self.chunk_len + 1\n",
        "      text = data[start:end]\n",
        "      input = torch.zeros(self.batch_size,self.chunk_len)\n",
        "      target = torch.zeros(self.batch_size,self.chunk_len)\n",
        "      for idx in range(self.batch_size):\n",
        "          input[idx,:] = self.char_To_tensor(text[:-1])\n",
        "          target[idx,:] = self.char_To_tensor(text[1:])\n",
        "      return input.long(), target.long()\n",
        "\n",
        "\n",
        "  def createPlot(self,valLoss,trainLoss):\n",
        "      plt.plot(range(self.num_epochs),valLoss,label = 'Validation Loss')\n",
        "      plt.plot(range(self.num_epochs),trainLoss,label = 'Training Loss')\n",
        "      plt.legend(loc='upper right')\n",
        "      plt.xlabel('Epoch')\n",
        "      plt.ylabel('Loss')\n",
        "      plt.show()\n",
        "\n",
        "  def showPerplexity(self,perplexities):\n",
        "      plt.plot(range(self.num_epochs),perplexities,label = 'Validation Perplexity')\n",
        "      plt.legend(loc='upper right')\n",
        "      plt.xlabel('Epoch')\n",
        "      plt.ylabel('Perplexity')\n",
        "      plt.show()\n",
        "\n",
        "  def train(self):\n",
        "    ppl_min = np.inf\n",
        "    self.Net = Net(len(char_to_idx), self.hidden_size, self.num_layers,len(char_to_idx)).to(device)\n",
        "    lossFunc = nn.CrossEntropyLoss()\n",
        "    optimizer = torch.optim.Adam(self.Net.parameters(), lr=0.001)\n",
        "\n",
        "    for epoch in range(1,self.num_epochs +1):\n",
        "        input, target = self.get_batch(X_train)\n",
        "        inputVal, targetVal = self.get_batch(X_val)\n",
        "        # state = self.Net.init_hidden(batch_size = self.batch_size)\n",
        "        self.Net.zero_grad()\n",
        "        train_loss = 0\n",
        "        input = input.to(device)\n",
        "        target = target.to(device)\n",
        "        inputVal = input.to(device)\n",
        "        targetVal = target.to(device)\n",
        "        for c in range(self.chunk_len):\n",
        "            \n",
        "            output = self.Net(input[:,c])\n",
        "            # print(output)\n",
        "            # print(target[c])\n",
        "            train_loss += lossFunc(output,target[:,c])\n",
        "        train_loss.backward()\n",
        "        optimizer.step()\n",
        "        train_loss = train_loss.item()/self.chunk_len\n",
        "\n",
        "\n",
        "        val_loss = evaluate(self,self.Net, lossFunc,inputVal,targetVal,self.batch_size)\n",
        "        ppl = math.exp(val_loss)\n",
        "\n",
        "        if ppl <= ppl_min:\n",
        "            is_best = \" (best) \"\n",
        "            # print(f1_val)\n",
        "            torch.save(self.Net.state_dict(), \"modelFW.pt\")\n",
        "            ppl_min = ppl\n",
        "        else:\n",
        "            is_best = \"\"\n",
        "        valPerplexityFW.append(math.exp(val_loss))\n",
        "        print(f'Epoch {epoch} - Training loss {train_loss:.5f} - | Train. PPL: {math.exp(train_loss):7.3f} | Val. PPL: {math.exp(val_loss):7.3f}')\n",
        "        val_lossList.append(val_loss)\n",
        "        train_lossList.append(train_loss)\n",
        "    self.createPlot(val_lossList,train_lossList)\n",
        "    self.showPerplexity(valPerplexityFW)\n",
        "def generateText(generator,initString = 'και', pred_len = 10):\n",
        "      model = Net(len(char_to_idx), generator.hidden_size, generator.num_layers,len(char_to_idx))\n",
        "      model.load_state_dict(torch.load('modelFW.pt'))\n",
        "      # hidden,cell = model.init_hidden(batch_size=generator.batch_size)\n",
        "      init_input = generator.char_To_tensor(initString)\n",
        "      predicted = initString\n",
        "\n",
        "      for p in range(len(initString)-1):\n",
        "          output = model(init_input[p].view(1).to(device))\n",
        "      \n",
        "      prev_char = init_input[-1]\n",
        "      for p in range(pred_len):\n",
        "          out = model(prev_char.view(1).to(device))\n",
        "          # print(cell)\n",
        "          outputProbs = out.data.view(-1)\n",
        "          bestNextChar =  torch.multinomial(outputProbs,1)[0]\n",
        "          predictedChar = idx_to_char[bestNextChar.item()]\n",
        "          \n",
        "          predicted += predictedChar\n",
        "          prev_char = generator.char_To_tensor(predictedChar)\n",
        "\n",
        "      print(predicted)\n",
        "\n",
        "gen1 = Generator()\n",
        "gen1.train()\n",
        "generateText(gen1)"
      ],
      "metadata": {
        "colab": {
          "base_uri": "https://localhost:8080/",
          "height": 749
        },
        "id": "VDEBfX3pUIn6",
        "outputId": "03023040-1749-4c88-cbad-db3bd2ed3b48"
      },
      "execution_count": 26,
      "outputs": [
        {
          "output_type": "stream",
          "name": "stderr",
          "text": [
            "/usr/local/lib/python3.7/dist-packages/ipykernel_launcher.py:22: UserWarning: Implicit dimension choice for softmax has been deprecated. Change the call to include dim=X as an argument.\n"
          ]
        },
        {
          "output_type": "stream",
          "name": "stdout",
          "text": [
            "Epoch 1 - Training loss 4.51518 - | Train. PPL:  91.394 | Val. PPL:  91.380\n",
            "Epoch 2 - Training loss 4.51503 - | Train. PPL:  91.380 | Val. PPL:  91.368\n",
            "Epoch 3 - Training loss 4.51489 - | Train. PPL:  91.368 | Val. PPL:  91.356\n",
            "Epoch 4 - Training loss 4.51476 - | Train. PPL:  91.356 | Val. PPL:  91.341\n",
            "Epoch 5 - Training loss 4.51460 - | Train. PPL:  91.341 | Val. PPL:  91.328\n",
            "Epoch 6 - Training loss 4.51445 - | Train. PPL:  91.328 | Val. PPL:  91.313\n",
            "Epoch 7 - Training loss 4.51429 - | Train. PPL:  91.313 | Val. PPL:  91.300\n",
            "Epoch 8 - Training loss 4.51415 - | Train. PPL:  91.300 | Val. PPL:  91.284\n",
            "Epoch 9 - Training loss 4.51398 - | Train. PPL:  91.284 | Val. PPL:  91.268\n",
            "Epoch 10 - Training loss 4.51380 - | Train. PPL:  91.268 | Val. PPL:  91.253\n"
          ]
        },
        {
          "output_type": "display_data",
          "data": {
            "text/plain": [
              "<Figure size 432x288 with 1 Axes>"
            ],
            "image/png": "[encoded data removed]"
          },
          "metadata": {
            "needs_background": "light"
          }
        },
        {
          "output_type": "display_data",
          "data": {
            "text/plain": [
              "<Figure size 432x288 with 1 Axes>"
            ],
            "image/png": "[encoded data removed]"
          },
          "metadata": {
            "needs_background": "light"
          }
        },
        {
          "output_type": "stream",
          "name": "stdout",
          "text": [
            "και)9ΰ:ηm1θ1φ\n"
          ]
        }
      ]
    },
    {
      "cell_type": "markdown",
      "source": [
        "Όπως θα δούμε απο τα παραπάνω plots το FeedForward Net θα μπορούσε να εκπαιδευτεί καλύτερα, με κάποιο parameter tuning και για πιο πολλές εποχές. \n",
        "Αξίζει να σημειωθεί εδω οτι έγινε, ένα μικρό parameter tuning, αλλά δεν υπήρξε χρόνος για περισσότερο. Ίσως σε κάποια μελλοντική δουλειά να μπορεί να γίνει. "
      ],
      "metadata": {
        "id": "kyK9_p1rXiKW"
      }
    },
    {
      "cell_type": "markdown",
      "source": [
        "## RNN"
      ],
      "metadata": {
        "id": "clouMDmvvPlT"
      }
    },
    {
      "cell_type": "markdown",
      "source": [
        "Το απλό RNN, είναι σαν να ξεδιπώνεται κατα το πέρας των εποχών του training, καθώς κρατάει και το προηγούμενο state που έμαθε για κάθε input χαρακτήρα."
      ],
      "metadata": {
        "id": "dGD_-I-iOCws"
      }
    },
    {
      "cell_type": "code",
      "source": [
        "class NetRNN(nn.Module):\n",
        "   def __init__(self,input_size,hidden_size,num_layers,output_size):\n",
        "        super(NetRNN, self).__init__()\n",
        "        self.hidden_size = hidden_size\n",
        "        self.num_layers = num_layers\n",
        "\n",
        "        self.emb = nn.Embedding(input_size,hidden_size).to(device)\n",
        "        self.rnn = nn.RNN(hidden_size,hidden_size,num_layers,batch_first=True).to(device)\n",
        "        self.hiddenLayer = nn.Linear(hidden_size,output_size).to(device)\n",
        "        self.activation_func = nn.Softmax()\n",
        "\n",
        "        \n",
        "   def forward(self, x,state):\n",
        "        # print(x.shape)\n",
        "        x = self.emb(x)\n",
        "        # print(x.shape)\n",
        "        # x = x.view(1,-1)\n",
        "        # x = x.unsqueeze(-3)\n",
        "        x,state = self.rnn(x.unsqueeze(1),state)\n",
        "        # print(x.shape)\n",
        "        x = self.hiddenLayer(x.reshape(x.shape[0],-1))\n",
        "        x = self.activation_func(x)\n",
        "\n",
        "       \n",
        "        return x , state\n",
        "\n",
        "   def init_hidden(self, batch_size):\n",
        "       hidden = torch.zeros(self.num_layers, batch_size, self.hidden_size).to(device)\n",
        "      #  cell = torch.zeros(self.num_layers, batch_size, self.hidden_size).to(device)\n",
        "       return hidden\n",
        "    "
      ],
      "metadata": {
        "id": "AdhEI_KPO2sz"
      },
      "execution_count": 27,
      "outputs": []
    },
    {
      "cell_type": "code",
      "source": [
        "import random\n",
        "import matplotlib.pyplot as plt\n",
        "\n",
        "val_lossList = list()\n",
        "train_lossList = list()\n",
        "valPerplexityRNN = list()\n",
        "def evaluate(genereator,model,lossFunc,x_val,y_val,bz):\n",
        "    val_loss = 0\n",
        "    with torch.no_grad():\n",
        "        state = genereator.NetRNN.init_hidden(batch_size = bz)\n",
        "        for c in range(genereator.chunk_len):\n",
        "            output, state = genereator.NetRNN(x_val[:,c],state)\n",
        "            val_loss += lossFunc(output,y_val[:,c])\n",
        "        val_loss = val_loss.item()/genereator.chunk_len\n",
        "    return val_loss\n",
        "class Generator():\n",
        "  def __init__(self):\n",
        "      self.chunk_len = 250 #no Of chars\n",
        "      self.num_epochs = 10\n",
        "      self.batch_size = 1\n",
        "      self.print_every = 1\n",
        "      self.hidden_size = 128\n",
        "      self.num_layers = 2\n",
        "      self.lr = 0.001\n",
        "  def char_To_tensor(self,stringValue):\n",
        "      tensor = torch.zeros(len(stringValue)).long()\n",
        "      # print(stringValue)\n",
        "      for c in range(len(stringValue)-1):\n",
        "          chars = list(stringValue[c])\n",
        "          for i in chars:\n",
        "              # print(i)\n",
        "              tensor[c] = char_to_idx[i]\n",
        "      return tensor\n",
        "\n",
        "  def get_batch(self,data):\n",
        "      start = random.randint(0,len(data)- self.chunk_len)\n",
        "      end = start + self.chunk_len + 1\n",
        "      text = data[start:end]\n",
        "      input = torch.zeros(self.batch_size,self.chunk_len)\n",
        "      target = torch.zeros(self.batch_size,self.chunk_len)\n",
        "      for idx in range(self.batch_size):\n",
        "          input[idx,:] = self.char_To_tensor(text[:-1])\n",
        "          target[idx,:] = self.char_To_tensor(text[1:])\n",
        "      return input.long(), target.long()\n",
        "\n",
        "\n",
        "  def createPlot(self,valLoss,trainLoss):\n",
        "      plt.plot(range(self.num_epochs),valLoss,label = 'Validation Loss')\n",
        "      plt.plot(range(self.num_epochs),trainLoss,label = 'Training Loss')\n",
        "      plt.legend(loc='upper right')\n",
        "      plt.xlabel('Epoch')\n",
        "      plt.ylabel('Loss')\n",
        "      plt.show()\n",
        "  def showPerplexity(self,perplexities):\n",
        "      plt.plot(range(self.num_epochs),perplexities,label = 'Validation Perplexity')\n",
        "      plt.legend(loc='upper right')\n",
        "      plt.xlabel('Epoch')\n",
        "      plt.ylabel('Perplexity')\n",
        "      plt.show()\n",
        "\n",
        "  def train(self):\n",
        "    ppl_min = np.inf\n",
        "    self.NetRNN = NetRNN(len(char_to_idx), self.hidden_size, self.num_layers,len(char_to_idx)).to(device)\n",
        "    lossFunc = nn.CrossEntropyLoss()\n",
        "    optimizer = torch.optim.Adam(self.NetRNN.parameters(), lr=0.001)\n",
        "\n",
        "    for epoch in range(1,self.num_epochs +1):\n",
        "        input, target = self.get_batch(X_train)\n",
        "        inputVal, targetVal = self.get_batch(X_val)\n",
        "        state = self.NetRNN.init_hidden(batch_size = self.batch_size)\n",
        "        self.NetRNN.zero_grad()\n",
        "        train_loss = 0\n",
        "        input = input.to(device)\n",
        "        target = target.to(device)\n",
        "        inputVal = input.to(device)\n",
        "        targetVal = target.to(device)\n",
        "        for c in range(self.chunk_len):\n",
        "            \n",
        "            output, state = self.NetRNN(input[:,c],state)\n",
        "            train_loss += lossFunc(output,target[:,c])\n",
        "        train_loss.backward()\n",
        "        optimizer.step()\n",
        "        train_loss = train_loss.item()/self.chunk_len\n",
        "        # if epoch % self.print_every == 0:\n",
        "        #     print(f'Train Loss: {train_loss}')\n",
        "\n",
        "        val_loss = evaluate(self,self.NetRNN, lossFunc,inputVal,targetVal,self.batch_size)\n",
        "        ppl = math.exp(val_loss)\n",
        "\n",
        "        if ppl <= ppl_min:\n",
        "            is_best = \" (best) \"\n",
        "            # print(f1_val)\n",
        "            torch.save(self.NetRNN.state_dict(), \"modelRNN.pt\")\n",
        "            ppl_min = ppl\n",
        "        else:\n",
        "            is_best = \"\"\n",
        "        print(f'Epoch {epoch} - Training loss {train_loss:.5f} - | Train. PPL: {math.exp(train_loss):7.3f} | Val. PPL: {math.exp(val_loss):7.3f}')\n",
        "        val_lossList.append(val_loss)\n",
        "        train_lossList.append(train_loss)\n",
        "        valPerplexityRNN.append(math.exp(val_loss))\n",
        "\n",
        "    self.createPlot(val_lossList,train_lossList)\n",
        "    self.showPerplexity(valPerplexityRNN)\n",
        "def generateText(generator,initString = 'και', pred_len = 10):\n",
        "      model = NetRNN(len(char_to_idx), generator.hidden_size, generator.num_layers,len(char_to_idx))\n",
        "      # model.load_state_dict(torch.load('model.pt'))\n",
        "      hidden,cell = model.init_hidden(batch_size=generator.batch_size)\n",
        "      init_input = generator.char_To_tensor(initString)\n",
        "      predicted = initString\n",
        "\n",
        "      for p in range(len(initString)-1):\n",
        "          (hidden,cell) = model(init_input[p].view(1).to(device),hidden,cell)\n",
        "      \n",
        "      prev_char = init_input[-1]\n",
        "      for p in range(pred_len):\n",
        "          out,(hidenn,cell) = model(prev_char.view(1).to(device),hidden,cell)\n",
        "          # print(cell)\n",
        "          outputProbs = out.data.view(-1)\n",
        "          bestNextChar =  torch.multinomial(outputProbs,1)[0]\n",
        "          predictedChar = idx_to_char[bestNextChar.item()]\n",
        "          \n",
        "          predicted += predictedChar\n",
        "          prev_char = generator.char_To_tensor(predictedChar)\n",
        "\n",
        "      print(predicted)\n",
        "gen1 = Generator()\n",
        "gen1.train()\n",
        "\n",
        "# generateText(gen1)"
      ],
      "metadata": {
        "colab": {
          "base_uri": "https://localhost:8080/",
          "height": 732
        },
        "id": "9tqSpZAOPoJL",
        "outputId": "c9bbaedf-be38-43a8-ac5d-7a1b794fc11c"
      },
      "execution_count": 31,
      "outputs": [
        {
          "output_type": "stream",
          "name": "stderr",
          "text": [
            "/usr/local/lib/python3.7/dist-packages/ipykernel_launcher.py:22: UserWarning: Implicit dimension choice for softmax has been deprecated. Change the call to include dim=X as an argument.\n"
          ]
        },
        {
          "output_type": "stream",
          "name": "stdout",
          "text": [
            "Epoch 1 - Training loss 4.51182 - | Train. PPL:  91.087 | Val. PPL:  89.740\n",
            "Epoch 2 - Training loss 4.49692 - | Train. PPL:  89.740 | Val. PPL:  87.314\n",
            "Epoch 3 - Training loss 4.46951 - | Train. PPL:  87.314 | Val. PPL:  83.026\n",
            "Epoch 4 - Training loss 4.41916 - | Train. PPL:  83.026 | Val. PPL:  76.094\n",
            "Epoch 5 - Training loss 4.33197 - | Train. PPL:  76.094 | Val. PPL:  66.872\n",
            "Epoch 6 - Training loss 4.20278 - | Train. PPL:  66.872 | Val. PPL:  57.394\n",
            "Epoch 7 - Training loss 4.04994 - | Train. PPL:  57.394 | Val. PPL:  49.658\n",
            "Epoch 8 - Training loss 3.90516 - | Train. PPL:  49.658 | Val. PPL:  44.308\n",
            "Epoch 9 - Training loss 3.79116 - | Train. PPL:  44.308 | Val. PPL:  40.916\n",
            "Epoch 10 - Training loss 3.71152 - | Train. PPL:  40.916 | Val. PPL:  38.810\n"
          ]
        },
        {
          "output_type": "display_data",
          "data": {
            "text/plain": [
              "<Figure size 432x288 with 1 Axes>"
            ],
            "image/png": "[encoded data removed]"
          },
          "metadata": {
            "needs_background": "light"
          }
        },
        {
          "output_type": "display_data",
          "data": {
            "text/plain": [
              "<Figure size 432x288 with 1 Axes>"
            ],
            "image/png": "[encoded data removed]"
          },
          "metadata": {
            "needs_background": "light"
          }
        }
      ]
    },
    {
      "cell_type": "markdown",
      "source": [
        "## LSTM"
      ],
      "metadata": {
        "id": "msyyCo0yvT8C"
      }
    },
    {
      "cell_type": "markdown",
      "source": [
        "Το LSTM είναι έαν είδος RNN, μόνο που έχει την δυνατότητα να κρατάει στην μνήμη του Cell οτι έμαθε απο προηγούμενη ακολουθία. Κατα αυτόν τον τρόπο διατηρεί και την χρονική σειρά των χαρακτήρων. "
      ],
      "metadata": {
        "id": "rYnkpQEUPL-7"
      }
    },
    {
      "cell_type": "code",
      "source": [
        "class NetLSTM(nn.Module):\n",
        "   def __init__(self,input_size,hidden_size,num_layers,output_size):\n",
        "        super(NetLSTM, self).__init__()\n",
        "        self.hidden_size = hidden_size\n",
        "        self.num_layers = num_layers\n",
        "\n",
        "        self.emb = nn.Embedding(input_size,hidden_size).to(device)\n",
        "        self.lstm = nn.LSTM(hidden_size,hidden_size,num_layers,batch_first=True).to(device)\n",
        "        self.hiddenLayer = nn.Linear(hidden_size,output_size).to(device)\n",
        "        self.activation_func = nn.Softmax()\n",
        "\n",
        "        \n",
        "   def forward(self, x,hidden, cell):\n",
        "        # print(x.shape)\n",
        "        x = self.emb(x)\n",
        "        # print(x.shape)\n",
        "        # x = x.view(1,-1)\n",
        "        # x = x.unsqueeze(-3)\n",
        "        x,(hidden,cell) = self.lstm(x.unsqueeze(1),(hidden,cell))\n",
        "        x = self.hiddenLayer(x.reshape(x.shape[0],-1))\n",
        "        x = self.activation_func(x)\n",
        "\n",
        "       \n",
        "        return x , (hidden,cell)\n",
        "\n",
        "   def init_hidden(self, batch_size):\n",
        "       hidden = torch.zeros(self.num_layers, batch_size, self.hidden_size).to(device)\n",
        "       cell = torch.zeros(self.num_layers, batch_size, self.hidden_size).to(device)\n",
        "       return hidden, cell\n",
        "    "
      ],
      "metadata": {
        "id": "VKllONa0k3cp"
      },
      "execution_count": 32,
      "outputs": []
    },
    {
      "cell_type": "code",
      "source": [
        "import random\n",
        "import matplotlib.pyplot as plt\n",
        "\n",
        "val_lossList = list()\n",
        "train_lossList = list()\n",
        "valPerplexityLSTM = list()\n",
        "def evaluate(genereator,model,lossFunc,x_val,y_val,bz):\n",
        "    val_loss = 0\n",
        "    with torch.no_grad():\n",
        "        hidden,cell = genereator.NetLSTM.init_hidden(batch_size = bz)\n",
        "        for c in range(genereator.chunk_len):\n",
        "            output, (hidden,cell) = genereator.NetLSTM(x_val[:,c],hidden,cell)\n",
        "            val_loss += lossFunc(output,y_val[:,c])\n",
        "        val_loss = val_loss.item()/genereator.chunk_len\n",
        "    return val_loss\n",
        "class Generator():\n",
        "  def __init__(self):\n",
        "      self.chunk_len = 128 #no Of chars\n",
        "      self.num_epochs = 10\n",
        "      self.batch_size = 1\n",
        "      self.print_every = 1\n",
        "      self.hidden_size = 128\n",
        "      self.num_layers = 10\n",
        "      self.lr = 0.001\n",
        "  def char_To_tensor(self,stringValue):\n",
        "      tensor = torch.zeros(len(stringValue)).long()\n",
        "      # print(stringValue)\n",
        "      for c in range(len(stringValue)-1):\n",
        "          chars = list(stringValue[c])\n",
        "          for i in chars:\n",
        "              # print(i)\n",
        "              tensor[c] = char_to_idx[i]\n",
        "      return tensor\n",
        "\n",
        "  def get_batch(self,data):\n",
        "      start = random.randint(0,len(data)- self.chunk_len)\n",
        "      end = start + self.chunk_len + 1\n",
        "      text = data[start:end]\n",
        "      input = torch.zeros(self.batch_size,self.chunk_len)\n",
        "      target = torch.zeros(self.batch_size,self.chunk_len)\n",
        "      for idx in range(self.batch_size):\n",
        "          input[idx,:] = self.char_To_tensor(text[:-1])\n",
        "          target[idx,:] = self.char_To_tensor(text[1:])\n",
        "      return input.long(), target.long()\n",
        "\n",
        "\n",
        "  def createPlot(self,valLoss,trainLoss):\n",
        "      plt.plot(range(self.num_epochs),valLoss,label = 'Validation Loss')\n",
        "      plt.plot(range(self.num_epochs),trainLoss,label = 'Training Loss')\n",
        "      plt.legend(loc='upper right')\n",
        "      plt.xlabel('Epoch')\n",
        "      plt.ylabel('Loss')\n",
        "      plt.show()\n",
        "  def showPerplexity(self,perplexities):\n",
        "      plt.plot(range(self.num_epochs),perplexities,label = 'Validation Perplexity')\n",
        "      plt.legend(loc='upper right')\n",
        "      plt.xlabel('Epoch')\n",
        "      plt.ylabel('Perplexity')\n",
        "      plt.show()\n",
        "  def train(self):\n",
        "    ppl_min = np.inf\n",
        "    self.NetLSTM = NetLSTM(len(char_to_idx), self.hidden_size, self.num_layers,len(char_to_idx)).to(device)\n",
        "    lossFunc = nn.CrossEntropyLoss()\n",
        "    optimizer = torch.optim.Adam(self.NetLSTM.parameters(), lr=0.001)\n",
        "\n",
        "    for epoch in range(1,self.num_epochs +1):\n",
        "        input, target = self.get_batch(X_train)\n",
        "        inputVal, targetVal = self.get_batch(X_val)\n",
        "        hidden,cell = self.NetLSTM.init_hidden(batch_size = self.batch_size)\n",
        "        self.NetLSTM.zero_grad()\n",
        "        train_loss = 0\n",
        "        input = input.to(device)\n",
        "        target = target.to(device)\n",
        "        inputVal = input.to(device)\n",
        "        targetVal = target.to(device)\n",
        "        for c in range(self.chunk_len):\n",
        "            output, (hidden,cell) = self.NetLSTM(input[:,c],hidden,cell)\n",
        "            train_loss += lossFunc(output,target[:,c])\n",
        "        train_loss.backward()\n",
        "        optimizer.step()\n",
        "        train_loss = train_loss.item()/self.chunk_len\n",
        "        # if epoch % self.print_every == 0:\n",
        "        #     print(f'Train Loss: {train_loss}')\n",
        "\n",
        "        val_loss = evaluate(self,self.NetLSTM, lossFunc,inputVal,targetVal,self.batch_size)\n",
        "        ppl = math.exp(val_loss)\n",
        "\n",
        "        if ppl <= ppl_min:\n",
        "            is_best = \" (best) \"\n",
        "            # print(f1_val)\n",
        "            torch.save(self.NetLSTM.state_dict(), \"model.pt\")\n",
        "            ppl_min = ppl\n",
        "        else:\n",
        "            is_best = \"\"\n",
        "        valPerplexityLSTM.append(math.exp(val_loss))\n",
        "        print(f'Epoch {epoch} - Training loss {train_loss:.5f} - | Train. PPL: {math.exp(train_loss):7.3f} | Val. PPL: {math.exp(val_loss):7.3f}')\n",
        "        val_lossList.append(val_loss)\n",
        "        train_lossList.append(train_loss)\n",
        "    self.createPlot(val_lossList,train_lossList)\n",
        "    self.showPerplexity(valPerplexityLSTM)\n",
        "def generateText(generator,initString = 'και', pred_len = 10):\n",
        "      model = NetLSTM(len(char_to_idx), generator.hidden_size, generator.num_layers,len(char_to_idx))\n",
        "      model.load_state_dict(torch.load('model.pt'))\n",
        "      hidden,cell = model.init_hidden(batch_size=generator.batch_size)\n",
        "      init_input = generator.char_To_tensor(initString)\n",
        "      predicted = initString\n",
        "\n",
        "      for p in range(len(initString)-1):\n",
        "          _,(hidenn,cell) = model(init_input[p].view(1).to(device),hidden,cell)\n",
        "      \n",
        "      prev_char = init_input[-1]\n",
        "      for p in range(pred_len):\n",
        "          out,(hidenn,cell) = model(prev_char.view(1).to(device),hidden,cell)\n",
        "          # print(cell)\n",
        "          outputProbs = out.data.view(-1)\n",
        "          bestNextChar =  torch.multinomial(outputProbs,1)[0]\n",
        "          predictedChar = idx_to_char[bestNextChar.item()]\n",
        "          \n",
        "          predicted += predictedChar\n",
        "          prev_char = generator.char_To_tensor(predictedChar)\n",
        "\n",
        "      print(predicted)\n",
        "gen = Generator()\n",
        "gen.train()\n",
        "\n",
        "generateText(gen)\n"
      ],
      "metadata": {
        "colab": {
          "base_uri": "https://localhost:8080/",
          "height": 749
        },
        "id": "2BEpnJNamh2q",
        "outputId": "936094c6-d3e5-4ec0-d506-bba7112764b1"
      },
      "execution_count": 34,
      "outputs": [
        {
          "output_type": "stream",
          "name": "stderr",
          "text": [
            "/usr/local/lib/python3.7/dist-packages/ipykernel_launcher.py:21: UserWarning: Implicit dimension choice for softmax has been deprecated. Change the call to include dim=X as an argument.\n"
          ]
        },
        {
          "output_type": "stream",
          "name": "stdout",
          "text": [
            "Epoch 1 - Training loss 4.51177 - | Train. PPL:  91.083 | Val. PPL:  91.032\n",
            "Epoch 2 - Training loss 4.51121 - | Train. PPL:  91.032 | Val. PPL:  90.972\n",
            "Epoch 3 - Training loss 4.51055 - | Train. PPL:  90.972 | Val. PPL:  90.895\n",
            "Epoch 4 - Training loss 4.50971 - | Train. PPL:  90.895 | Val. PPL:  90.784\n",
            "Epoch 5 - Training loss 4.50849 - | Train. PPL:  90.784 | Val. PPL:  90.588\n",
            "Epoch 6 - Training loss 4.50632 - | Train. PPL:  90.588 | Val. PPL:  90.145\n",
            "Epoch 7 - Training loss 4.50142 - | Train. PPL:  90.145 | Val. PPL:  88.873\n",
            "Epoch 8 - Training loss 4.48721 - | Train. PPL:  88.873 | Val. PPL:  85.763\n",
            "Epoch 9 - Training loss 4.45158 - | Train. PPL:  85.763 | Val. PPL:  81.141\n",
            "Epoch 10 - Training loss 4.39618 - | Train. PPL:  81.141 | Val. PPL:  75.806\n"
          ]
        },
        {
          "output_type": "display_data",
          "data": {
            "text/plain": [
              "<Figure size 432x288 with 1 Axes>"
            ],
            "image/png": "[encoded data removed]"
          },
          "metadata": {
            "needs_background": "light"
          }
        },
        {
          "output_type": "display_data",
          "data": {
            "text/plain": [
              "<Figure size 432x288 with 1 Axes>"
            ],
            "image/png": "[encoded data removed]"
          },
          "metadata": {
            "needs_background": "light"
          }
        },
        {
          "output_type": "stream",
          "name": "stdout",
          "text": [
            "καιΰj;sf:γrάύ\n"
          ]
        }
      ]
    },
    {
      "cell_type": "markdown",
      "source": [
        "# Συμπεράσματα"
      ],
      "metadata": {
        "id": "LFcM5MfhPpN_"
      }
    },
    {
      "cell_type": "markdown",
      "source": [
        "Όπως θα δούμε σε γενικές γραμμές τα νευρωνικά Δίκτυα τα πήγαν καλύτερα ως προς την μετρική Perplexity σε σχέση με τα απλά ngram μοντέλα. Αυτό μπορεί να συναίβει λόγω των activation functions, των εσωτερικών γινομένων για την εκμάθηση των βαρών αλλά κυριώς και απο την συνάρτηση loss Cross Entropy. Αυτή στην ουσία αποτελλεί την penalty συνάρτηση για κάθε Output του μοντέλου κατα την διαδικασία του Training. Οπότε κατα αυτόν τον τρόπο το εκάστοτε Μοντέλο μπορεί να βελτιωθεί με την διαδικασία του Gradient Descent και Back propagation.\n",
        "Επίσης σημαντικό ρόλο θα μπορούσε κανείς να πει οτι έπαιξε και αναπαράσταση των Embeddings.\n",
        "\n",
        "Σε γενικές γραμμές όλες μας τα πειράματα θα μπορούσαν να έχουν καλύτερο performance έαν είχαμε πιο πολλά δεδομένα και κάναμε κάποιο parameter tuning. "
      ],
      "metadata": {
        "id": "aQPNRLvPPuxA"
      }
    }
  ]
}