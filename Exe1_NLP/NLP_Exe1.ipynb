{
 "cells": [
  {
   "cell_type": "code",
   "execution_count": 1,
   "id": "77b317ee",
   "metadata": {},
   "outputs": [],
   "source": [
    "import nltk\n",
    "import spacy\n",
    "import re\n",
    "import os\n",
    "from nltk.probability import FreqDist\n",
    "from nltk.corpus import treebank\n",
    "nlpEN = spacy.load(\"en_core_web_sm\")\n",
    "nlpEL = spacy.load(\"el_core_news_sm\")\n",
    "import string\n",
    "import matplotlib.pyplot as plt\n",
    "from tabulate import tabulate\n",
    "\n",
    "# from fuzzywuzzy import fuzz\n",
    "# fuzz.WRatio\n",
    "# nltk.download('treebank')"
   ]
  },
  {
   "cell_type": "markdown",
   "id": "12758f44",
   "metadata": {},
   "source": [
    "# English Tokenizers"
   ]
  },
  {
   "cell_type": "markdown",
   "id": "32cb873e",
   "metadata": {},
   "source": [
    "Στο treebank Corpus υπάρχουν κάποιες extra προτάσεις, οι οποίες δεν υπήρχαν στο σώμα δεδομένων που αναλύουμε με αποτέλεσμα να υπάρχουν κάποιες αποκλείσεις ως προς τα metrics. Εκτός απο την επεξεργασία των κειμένων σχετικά με τα περιττά κενά, χρειάστηκε και επεξεργασία το αντίστοιχο ground truth κείμενο.\n"
   ]
  },
  {
   "cell_type": "code",
   "execution_count": 3,
   "id": "f8c57e8b",
   "metadata": {},
   "outputs": [],
   "source": [
    "# C:\\\\Users\\\\ppetropo\\\\Desktop\\\\NLP\\\\NLP_Exercises\\\\Exe1_NLP\n",
    "path = \"assignment1textfiles\\\\wsj_untokenized.txt\"\n",
    "# os.chdir(path)\n",
    "def joinGroundTruthTokenInOneList(treebankFiles, isTokenizer = True):\n",
    "    tokens = list()\n",
    "    if isTokenizer:\n",
    "        for file in treebankFiles:\n",
    "            tmpTokens = treebank.words(file)\n",
    "            for index in range(len(tmpTokens)):\n",
    "                tokens.append(tmpTokens[index])\n",
    "    else: \n",
    "        for file in treebankFiles:\n",
    "            tmpTokens = treebank.sents(file)\n",
    "#             print(tmpTokens[0])\n",
    "#             break;\n",
    "#             tokens.append(tmpTokens) \n",
    "            for index in range(len(tmpTokens)):\n",
    "                tmpSent = ' '.join(tmpTokens[index])\n",
    "                tmpSent = tmpSent.replace(\" ,\", ',')\n",
    "                tmpSent = tmpSent.replace(\" .\", '.')\n",
    "                tokens.append(tmpSent)\n",
    "\n",
    "            \n",
    "    return tokens\n",
    "\n",
    "def customTokenizer(text):\n",
    "    pattern = re.compile(r'(?:[A-Z]\\.)+|[A-Za-z]+\\.|\\d+(?:[\\./]\\d+)|n\\'t|\\b\\w+(?!\\'t)|\\w+(?:-\\w+)*|[!\\\"#$%&\\'()*+,./:;<=>?@[\\]^_`{|}~]|-{2}')  \n",
    "    tmpTokens = pattern.findall(text)\n",
    "    tokens = list()\n",
    "    for i in tmpTokens:\n",
    "        i = i.strip()\n",
    "        i = i.replace('/','\\\\/')\n",
    "        tokens.append(i)\n",
    "    \n",
    "    return tokens\n",
    "# (?<!\\w\\.\\w.)(?<![A-Z][a-z]\\.)(?<![A-Z]\\.)(?<![A-Za-z]\\.[\\d])(?<=\\.|\\?)\\s\n",
    "# (?<=[^A-Z].[.?!]) +(?=[A-Z])\n",
    "def customSentencize(text):#(?<!\\w\\.\\w.)(?<![A-Z][a-z]\\.)(?<=\\.|\\?) \n",
    "    tmpSetences =  re.split(r'(?<=[^A-Z].[.?!\\'\\']|[^A-Z]\\s[.?!\\'\\']) +(?=[A-Z])', text)\n",
    "    stetences = list()\n",
    "    for i in tmpSetences:\n",
    "        i = i.strip()\n",
    "        stetences.append(i)\n",
    "#     print(stetences)\n",
    "    return stetences\n",
    "def calcPrecision(texts, treebankTokens, isTokenization = True,counter = 0): \n",
    "    precision = 0.0\n",
    "    if isTokenization == True : #calculate precision for tokens\n",
    "#         matchedTokens = [x for x in texts + treebankTokens if x in texts and x in treebankTokens]\n",
    "#         matchedTokens = set(texts).intersection(treebankTokens) # pairnw tin tomi. \n",
    "        counter = 0 \n",
    "        for token in texts:\n",
    "            if token in treebankTokens:\n",
    "                counter = counter + 1\n",
    "        print(\"No. of groundTruthTokens = \",len(treebankTokens))\n",
    "        relevantTokens = counter\n",
    "        print(\"Relevant Tokens = \",relevantTokens)\n",
    "        retrievedTokens = len(texts)\n",
    "        print(\"Retrieved Tokens = \",retrievedTokens)\n",
    "        precision = relevantTokens  / retrievedTokens\n",
    "        print(\"Precision = \",precision)\n",
    "    else:\n",
    "    \n",
    "        print(\"No. of groundTruthSetences = \",len(treebankTokens))\n",
    "        relevantTokens = counter\n",
    "        print(\"Relevant Setences = \",relevantTokens)\n",
    "        retrievedTokens = len(texts)\n",
    "        print(\"Retrieved Setences = \",retrievedTokens)\n",
    "        precision = relevantTokens  / retrievedTokens\n",
    "        print(\"Precision = \",precision)\n",
    "      \n",
    "    return precision\n",
    "\n",
    "    \n",
    "def calcRecall(texts, treebankTokens, isTokenization = True, counter = 0):\n",
    "    recall = 0.00\n",
    "    if isTokenization == True : #calculate recall for tokens\n",
    "#         matchedTokens = [x for x in texts + treebankTokens if x in texts and x in treebankTokens]\n",
    "#         matchedTokens = set(texts).intersection(treebankTokens) # pairnw tin tomi. \n",
    "        counter = 0    \n",
    "        for token in texts:\n",
    "            if token in treebankTokens:\n",
    "                counter = counter + 1\n",
    "        relevantTokens = counter\n",
    "        correctTokens = len(treebankTokens)\n",
    "        recall = relevantTokens  / correctTokens\n",
    "        print(\"Recall = \",recall)\n",
    "    else:\n",
    "        print(\"No. of groundTruthSetences = \",len(treebankTokens))\n",
    "        relevantTokens = counter\n",
    "        correctTokens = len(treebankTokens)\n",
    "        recall = relevantTokens  / correctTokens\n",
    "        print(\"Recall = \",recall)\n",
    "         \n",
    "    return recall\n",
    "\n",
    "def calcF1Score(precision, recall):\n",
    "    f1 = (2 * precision * recall) / (precision + recall)\n",
    "    return f1\n",
    "\n",
    "sentencizer = nltk.tokenize.PunktSentenceTokenizer()\n",
    "with open(path,'r') as f:\n",
    "    text = f.read()\n",
    "    #Tokens\n",
    "    tokensWordTokenize = nltk.tokenize.word_tokenize(text)\n",
    "    tokensWordPunctTokenize = nltk.tokenize.wordpunct_tokenize(text)\n",
    "    docSpacy = nlpEN(text)\n",
    "    #Setences\n",
    "    nltkSentTokens = nltk.sent_tokenize(text)\n",
    "    nltkSentPunctTokenize = sentencizer.tokenize(text)\n",
    "\n",
    "setencesSpacy = list()\n",
    "for setence in docSpacy.sents:\n",
    "    setencesSpacy.append(setence.text)\n",
    "\n",
    "tokensSpacy = list()\n",
    "for token in docSpacy:\n",
    "    tokensSpacy.append(token.text)\n",
    "    \n",
    "files = treebank.fileids()\n",
    "customTokens = customTokenizer(text)\n",
    "customSetences = customSentencize(text)\n",
    "groundTruthTokens = joinGroundTruthTokenInOneList(files)\n",
    "\n",
    "groundTruthSentences = joinGroundTruthTokenInOneList(files,False)\n",
    "# print(groundTruthSentences)\n",
    "\n",
    "\n",
    "\n",
    "\n",
    "\n",
    "\n",
    "\n"
   ]
  },
  {
   "cell_type": "markdown",
   "id": "34874900",
   "metadata": {},
   "source": [
    "# English Tokenizers Metrics - Analysis"
   ]
  },
  {
   "cell_type": "code",
   "execution_count": 4,
   "id": "d04dc272",
   "metadata": {},
   "outputs": [
    {
     "name": "stdout",
     "output_type": "stream",
     "text": [
      "======================================ENGLISH=============================================\n",
      "No. of groundTruthTokens =  100676\n",
      "Relevant Tokens =  92511\n",
      "Retrieved Tokens =  93273\n",
      "Precision =  0.9918304332443473\n",
      "Recall =  0.9188982478445707\n"
     ]
    },
    {
     "data": {
      "image/png": "[encoded data removed]",
      "text/plain": [
       "<Figure size 1080x360 with 1 Axes>"
      ]
     },
     "metadata": {
      "needs_background": "light"
     },
     "output_type": "display_data"
    },
    {
     "name": "stdout",
     "output_type": "stream",
     "text": [
      "No. of groundTruthTokens =  100676\n",
      "Relevant Tokens =  95759\n",
      "Retrieved Tokens =  100637\n",
      "Precision =  0.9515287617874142\n",
      "Recall =  0.9511601573364059\n",
      "F1 - Score =  0.9513444238573764\n"
     ]
    },
    {
     "data": {
      "image/png": "[encoded data removed]",
      "text/plain": [
       "<Figure size 1080x360 with 1 Axes>"
      ]
     },
     "metadata": {
      "needs_background": "light"
     },
     "output_type": "display_data"
    },
    {
     "name": "stdout",
     "output_type": "stream",
     "text": [
      "No. of groundTruthTokens =  100676\n",
      "Relevant Tokens =  95106\n",
      "Retrieved Tokens =  95893\n",
      "Precision =  0.9917929358764456\n",
      "Recall =  0.9446740037347531\n",
      "F1 - Score =  0.9676602109183036\n"
     ]
    },
    {
     "data": {
      "image/png": "[encoded data removed]",
      "text/plain": [
       "<Figure size 1080x360 with 1 Axes>"
      ]
     },
     "metadata": {
      "needs_background": "light"
     },
     "output_type": "display_data"
    },
    {
     "name": "stdout",
     "output_type": "stream",
     "text": [
      "No. of groundTruthTokens =  100676\n",
      "Relevant Tokens =  88902\n",
      "Retrieved Tokens =  94120\n",
      "Precision =  0.9445601359966\n",
      "Recall =  0.8830505780920974\n",
      "F1 - Score =  0.9127702827573461\n"
     ]
    },
    {
     "data": {
      "image/png": "[encoded data removed]",
      "text/plain": [
       "<Figure size 1080x360 with 1 Axes>"
      ]
     },
     "metadata": {
      "needs_background": "light"
     },
     "output_type": "display_data"
    }
   ],
   "source": [
    "print(\"======================================ENGLISH=============================================\")\n",
    "\n",
    "\n",
    "precision = calcPrecision(tokensWordTokenize, groundTruthTokens)    \n",
    "recall = calcRecall(tokensWordTokenize, groundTruthTokens)\n",
    "f1nltkEN = calcF1Score(precision, recall)\n",
    "# print(\"F1 - Score = \",f1nltkEN)\n",
    "dic = FreqDist(tokensWordTokenize)\n",
    "filter_tokens1 = dict([(m, n) for m, n in dic.items() if n == 1])\n",
    "observed1_1 = len(filter_tokens1)/len(dic)\n",
    "top30_1 = FreqDist(tokensWordTokenize).most_common(30)\n",
    "top30_1Truth = FreqDist(groundTruthTokens).most_common(30)\n",
    "plt.figure(figsize=(15, 5))\n",
    "plt.plot(*zip(*top30_1),label='NLTK word_tokenize')\n",
    "plt.scatter(*zip(*top30_1Truth),color = 'red',label='GroundTruth')\n",
    "plt.xlabel('Tokens')\n",
    "plt.ylabel('Frequency')\n",
    "plt.legend(loc=\"upper right\")\n",
    "plt.show()\n",
    "\n",
    "\n",
    "precision = calcPrecision(tokensWordPunctTokenize, groundTruthTokens)    \n",
    "recall = calcRecall(tokensWordPunctTokenize, groundTruthTokens)\n",
    "f1nltkEN2 = calcF1Score(precision, recall)\n",
    "print(\"F1 - Score = \",f1nltkEN2)\n",
    "dic2 = FreqDist(tokensWordPunctTokenize)\n",
    "filter_tokens2 = dict([(m, n) for m, n in dic2.items() if n == 1])\n",
    "observed1_2 = len(filter_tokens2)/len(dic2)\n",
    "top30_2 = FreqDist(tokensWordPunctTokenize).most_common(30)\n",
    "top30_2Truth = FreqDist(groundTruthTokens).most_common(30)\n",
    "plt.figure(figsize=(15, 5))\n",
    "plt.plot(*zip(*top30_2),label='NLTK wordpunct_tokenize')\n",
    "plt.scatter(*zip(*top30_1Truth),label='GroundTruth',color = 'red')\n",
    "plt.xlabel('Tokens')\n",
    "plt.ylabel('Frequency')\n",
    "plt.legend(loc=\"upper right\")\n",
    "plt.show()\n",
    "\n",
    "\n",
    "\n",
    "precision = calcPrecision(tokensSpacy, groundTruthTokens)    \n",
    "recall = calcRecall(tokensSpacy, groundTruthTokens)\n",
    "f1spacyEN = calcF1Score(precision, recall)\n",
    "print(\"F1 - Score = \",f1spacyEN)\n",
    "dic3 = FreqDist(tokensSpacy)\n",
    "filter_tokens3 = dict([(m, n) for m, n in dic3.items() if n == 1])\n",
    "observed1_3 = len(filter_tokens3)/len(dic3)\n",
    "top30_3 = FreqDist(tokensSpacy).most_common(30)\n",
    "top30_3Truth = FreqDist(groundTruthTokens).most_common(30)\n",
    "plt.figure(figsize=(15, 5))\n",
    "plt.plot(*zip(*top30_3),label='SpaCy en_core_web_sm')\n",
    "plt.scatter(*zip(*top30_1Truth),label='GroundTruth',color = 'red')\n",
    "plt.xlabel('Tokens')\n",
    "plt.ylabel('Frequency')\n",
    "plt.legend(loc=\"upper right\")\n",
    "plt.show()\n",
    "\n",
    "\n",
    "\n",
    "precision = calcPrecision(customTokens, groundTruthTokens)    \n",
    "recall = calcRecall(customTokens, groundTruthTokens)\n",
    "f2custonEN = calcF1Score(precision, recall)\n",
    "print(\"F1 - Score = \",f2custonEN)\n",
    "dic4 = FreqDist(customTokens)\n",
    "filter_tokens4 = dict([(m, n) for m, n in dic4.items() if n == 1])\n",
    "observed1_4 = len(filter_tokens4)/len(dic4)\n",
    "top30_4 = FreqDist(customTokens).most_common(30)\n",
    "top30_4Truth = FreqDist(groundTruthTokens).most_common(30)\n",
    "plt.figure(figsize=(15, 5))\n",
    "plt.plot(*zip(*top30_4),label='Custom Tokenizer')\n",
    "plt.scatter(*zip(*top30_1Truth),label='GroundTruth',color = 'red')\n",
    "plt.xlabel('Tokens')\n",
    "plt.ylabel('Frequency')\n",
    "plt.legend(loc=\"upper right\")\n",
    "plt.show()"
   ]
  },
  {
   "cell_type": "markdown",
   "id": "b74ef084",
   "metadata": {},
   "source": [
    "Παρατηρώντας τα παραπάνω Plots, μπορεί κανείς να δει τα top 30 tokens με την μεγαλύτερη εμφάνιση στο κείμενο. \n",
    "Κάποια απο τα ground truth tokens είναι κάποια tags ή κάποια tokens που δεν περιέχονται στα κείμενα που αναλύουμε, όπως το \"*T*-1\" ή τα σύμβολα ' στο κείμενο που αναλύουμε, περιέχονται με άλλη μορφή στο ground Truth. \n",
    "\n",
    "Σύμφωνα με τα plots, το tokenization της κάθε μεθόδου συμφωνεί στο μεγαλύτερο ποσοστό των tokens με το ground truth. Όπως θα παρατηρήσει κανείς στο ground truth τα tokens που σχετίζονται με αρχικά λέξεων και σύμβολο ποσοστού, γίνονται tokenize ξεχωριστά απο την λέξη ή το νούμερο που αντιστοιχεί. Αυτό μπορεί να επιβεβαιωθεί απο το οριζόντιο άξονα βλέποντας τα tokens \"Mr\" και \"%\". Σε αυτό βασίστηκε και το custom tokenization που υλοποιήθηκε με την διαφορά οτι το \"Mr.\" στην υλοποίησή μου αντιμετωπίζεται σαν 1 token. Αντίθετη σε αυτήν την κατάσταση, είναι η μέθοδος που χρησιμοποιεί η wordpunct της NLTK."
   ]
  },
  {
   "cell_type": "code",
   "execution_count": 5,
   "id": "6c54fbfb",
   "metadata": {},
   "outputs": [
    {
     "name": "stdout",
     "output_type": "stream",
     "text": [
      "╒════╤═════════════════════════════════════════════════════════╤═════════════════════╕\n",
      "│    │ percentage of tokens with Frequency = 1 per Tokenizer   │   Frequency = 1 (%) │\n",
      "╞════╪═════════════════════════════════════════════════════════╪═════════════════════╡\n",
      "│  0 │ NLTK word_tokenize                                      │            0.522006 │\n",
      "├────┼─────────────────────────────────────────────────────────┼─────────────────────┤\n",
      "│  1 │ NLTK wordpunct_tokenize                                 │            0.483124 │\n",
      "├────┼─────────────────────────────────────────────────────────┼─────────────────────┤\n",
      "│  2 │ SpaCy                                                   │            0.500697 │\n",
      "├────┼─────────────────────────────────────────────────────────┼─────────────────────┤\n",
      "│  3 │ Custom                                                  │            0.52972  │\n",
      "╘════╧═════════════════════════════════════════════════════════╧═════════════════════╛\n"
     ]
    }
   ],
   "source": [
    "\n",
    "info = {'percentage of tokens with Frequency = 1 per Tokenizer': ['NLTK word_tokenize','NLTK wordpunct_tokenize','SpaCy','Custom'], 'Frequency = 1 (%)': [observed1_1,observed1_2,observed1_3,observed1_4]}\n",
    "print(tabulate(info,headers='keys',tablefmt='fancy_grid',showindex=True))\n"
   ]
  },
  {
   "cell_type": "markdown",
   "id": "0117fc98",
   "metadata": {},
   "source": [
    "Όπως θα δούμε απο τον παραπάνω πίνακα τα μισά περίπου tokens, για όλες τις μεθόδους που υλοποιήσαμε, εμφανίζονται ακριβώς 1 φορά στο κείμενο. Είναι κάτι που προκύπτει και απο τον νόμο του Zipf. "
   ]
  },
  {
   "cell_type": "markdown",
   "id": "a9f9d8fa",
   "metadata": {},
   "source": [
    "# Greek Tokenizers"
   ]
  },
  {
   "cell_type": "code",
   "execution_count": 15,
   "id": "65714cae",
   "metadata": {},
   "outputs": [],
   "source": [
    "#(?:[Α-Ω]\\.)+|[A-Za-zΑ-Ωα-ωίϊΐόάέύϋΰήώ]+|[Α-Ω]\\'\\s[A-Za-zΑ-Ωα-ωίϊΐόάέύϋΰήώ]+|\\d+(?:[\\./]\\d+)|[0-9]+[ό|ός]|[0-9]+[!«»\\\"#$%&\\'()*+,./:;<=>?@[\\]^_`{|}~]|-{2}\n",
    "lookup = {\"στον\":[\"σ\",\"τον\"],\n",
    "         \"στο\":[\"σ\",\"το\"],\n",
    "         \"στα\":[\"σ\",\"τα\"],\n",
    "         \"στη\":[\"σ\",\"τη\"],\n",
    "         \"Στη\":[\"Σ\",\"τη\"],\n",
    "         \"στην\":[\"σ\",\"την\"],\n",
    "         \"Στην\":[\"Σ\",\"την\"],\n",
    "         \"στης\":[\"σ\",\"της\"],\n",
    "         \"στου\":[\"σ\",\"του\"],\n",
    "         \"στους\":[\"σ\",\"τους\"],\n",
    "         \"Στους\":[\"Σ\",\"τους\"],\n",
    "         \"στις\":[\"σ\",\"τις\"]}\n",
    "\n",
    "def customTokenizerEL(text):\n",
    "    pattern = re.compile(r'(?:[Α-Ω]\\.)+|[Α-Ωα-ωό]+,[α-ω]+|\\d+(?:[\\./]\\d+[\\./]\\d+)|\\d+(?:[\\./]\\d+)|[Α-Ω]+\\d+|[Α-Ωα-ω]+\\'\\s|[0-9]+[Α-Ωα-ωήό]+|\\w+(?:-\\w+)*|[Α-Ωα-ωίϊΐόάέύϋΰήώ]+(?:-[Α-Ωα-ωίϊΐόάέύϋΰήώ]+)*|[A-Za-zΑ-Ωα-ωίϊΐόάέύϋΰήώ]+|[0-9]+|\\.\\.\\.|[!«»\\\"#$%&\\'()*+,·./:-;<=>?@[\\]^_`{|}~]')  \n",
    "    tmpTokens = pattern.findall(text)\n",
    "    tokens = list()\n",
    "    \n",
    "    for i in tmpTokens:\n",
    "        i = i.strip()\n",
    "        if i in lookup.keys():\n",
    "            tmpI = lookup[i]\n",
    "            tokens.append(tmpI[0])\n",
    "            tokens.append(tmpI[1])\n",
    "        else:\n",
    "            tokens.append(i)\n",
    "    return tokens\n",
    "# (?<=[^A-Z].[.?!]) +(?=[A-Z])\n",
    "\n",
    "#(?<![Α-Ωα-ω])\\.\\s[Α-Ωα-ω]+\\.[Α-Ωα-ω]+|(?<![Α-Ωα-ω])[\\.!;]\\s[Α-Ω]+|(?<=[\\.!;]) +|^[α-ω]\\)\n",
    "def customSetencizeEL(text):\n",
    "    text = text.replace('\\n',' ')\n",
    "    tmpSetences =  re.split(r'(?<=[^Α-Ω].[.?!]) +(?=[Α-Ω])', text)\n",
    "  \n",
    "    stetences = list()\n",
    "    for i in tmpSetences:\n",
    "        i = i.strip()\n",
    "        i = i.replace(\"  \",\" \")\n",
    "        stetences.append(i)\n",
    "    \n",
    "    return stetences\n",
    "\n",
    "# C:\\\\Users\\\\ppetropo\\\\Desktop\\\\NLP\\\\NLP_Exercises\\\\Exe1_NLP\n",
    "path = \"C:\\\\Users\\\\ppetropo\\\\Desktop\\\\NLP\\\\NLP_Exercises\\\\Exe1_NLP\\\\assignment1textfiles\\\\raw\"\n",
    "# os.chdir(path)\n",
    "listOfDocsEL = list()\n",
    "listDocsSpacyEL = list()\n",
    "for file in os.listdir():\n",
    "    if file.endswith(\".txt\"):\n",
    "         file_path = f\"{path}\\{file}\"\n",
    "         with open(file_path , 'r',encoding = 'utf-8') as f:\n",
    "            listOfDocsEL.append(f.read())\n",
    "            \n",
    "\n",
    "            \n",
    "groundTruthPath = \"C:\\\\Users\\\\ppetropo\\\\Desktop\\\\NLP\\\\NLP_Exercises\\\\Exe1_NLP\\\\assignment1textfiles\\\\sbd\"\n",
    "# os.chdir(path)\n",
    "listOfgroundTruthTokensEL = list()\n",
    "for file in os.listdir():\n",
    "    if file.endswith(\".txt\"):\n",
    "         file_path = f\"{groundTruthPath}\\{file}\"\n",
    "         with open(file_path , 'r',encoding = 'UTF-8') as f:\n",
    "            listOfgroundTruthTokensEL.append(f.read().split('\\n'))\n",
    "\n",
    "#============================== NLTK tokens START=============================            \n",
    "tokensWordTokenizeEL = list()\n",
    "\n",
    "for text in listOfDocsEL:\n",
    "    tmpTokensWordTokenizeEL = nltk.tokenize.word_tokenize(text)\n",
    "    \n",
    "    for token in tmpTokensWordTokenizeEL:\n",
    "        token = token.replace(\"\\xad\",'-') \n",
    "        tokensWordTokenizeEL.append(token)\n",
    "#============================== NLTK tokens END=============================  \n",
    "\n",
    "#============================== NLTK PUNCT tokens START=============================  \n",
    "tokensWordPunctTokenizeEL = list()\n",
    "\n",
    "for text in listOfDocsEL:\n",
    "    tmpTokensWordPunctTokenizeEL = nltk.tokenize.wordpunct_tokenize(text)\n",
    "\n",
    "    for token in tmpTokensWordPunctTokenizeEL:\n",
    "        token = token.replace(\"\\xad\",'-') \n",
    "        tokensWordPunctTokenizeEL.append(token)\n",
    "\n",
    "#============================== NLTK PUNCT tokens END=============================  \n",
    "        \n",
    "#============================== spacy tokens=============================\n",
    "tokensSpacyEL = list()\n",
    "for text in listOfDocsEL:\n",
    "    docSpacyEL = nlpEL(text)\n",
    "    for token in docSpacyEL:\n",
    "        tokensSpacyEL.append(token.text)     \n",
    "#============================== spacy tokens END=============================\n",
    "\n",
    "#========================== Custom Tokens START======================\n",
    "tokenCustomEL = list()\n",
    "\n",
    "for text in listOfDocsEL:\n",
    "    customTokensEL = customTokenizerEL(text)\n",
    "    for token in customTokensEL:\n",
    "        tokenCustomEL.append(token)\n",
    "\n",
    "#========================== Custom Tokens END======================\n",
    "\n",
    "#============================== spacy setences START============================= !!!! TO FIX TO DO!!!!!!!!!!\n",
    "setencesSpacyEL = list()\n",
    "\n",
    "for text in listOfDocsEL:\n",
    "    docSpacyEL = nlpEL(text)\n",
    "    \n",
    "    for setence in docSpacyEL.sents:\n",
    "        tmpSetence = setence.text.replace('\\n',' ')\n",
    "        setencesSpacyEL.append(tmpSetence) \n",
    "# print(setencesSpacyEL)\n",
    "#============================== spacy setences START=============================\n",
    "\n",
    "#==================================== Custom Sentences START =====================   \n",
    "setencesCustomListEL = list()\n",
    "for text in listOfDocsEL:\n",
    "    setencesCustomEL = customSetencizeEL(text)\n",
    "    for sete in setencesCustomEL:\n",
    "        setencesCustomListEL.append(sete)\n",
    "\n",
    "#==================================== Custom Sentences END =====================  \n",
    "\n",
    " #==================================== NLTK setences START =====================   \n",
    "setenceWordTokenizeEL = list()\n",
    "for text in listOfDocsEL:\n",
    "    tmpsetencesCustomEL = nltk.tokenize.sent_tokenize(text)\n",
    "    for sete in tmpsetencesCustomEL:\n",
    "        setenceWordTokenizeEL.append(sete.replace('\\n',' '))\n",
    "\n",
    "#==================================== NLTK setences END =====================  \n",
    "\n",
    "#==================================== NLTK PUNCT setences START =====================  \n",
    "setenceWordPunctTokenizeEL = list()\n",
    "sentencizerEL = nltk.tokenize.PunktSentenceTokenizer()\n",
    "for text in listOfDocsEL:\n",
    "    tmpsetencesL = sentencizerEL.tokenize(text)\n",
    "    for sete in tmpsetencesL:\n",
    "        setenceWordPunctTokenizeEL.append(sete.replace('\\n',' '))\n",
    "\n",
    "#==================================== NLTK PUNCT setences END =====================          \n",
    "# print(\"======================================================GREEK==============================================================\")        \n",
    "groundTruthEL = list()\n",
    "listOfTruthSentEL = list()\n",
    "for listgroundToken in listOfgroundTruthTokensEL:\n",
    "    for groundToken in listgroundToken:\n",
    "        groundToken = groundToken.replace(\"\\xad\",'-')\n",
    "        if groundToken != \"<S>\":\n",
    "            groundTruthEL.append(groundToken)\n",
    "\n",
    "\n",
    "for listgroundToken in listOfgroundTruthTokensEL:\n",
    "    if listgroundToken == 'σ' or listgroundToken == 'Σ':\n",
    "        tmpList = ''.join(listgroundToken)\n",
    "    else:        \n",
    "        tmpList = ' '.join(listgroundToken)\n",
    "    tmpList = tmpList.replace(\" ,\", ',')\n",
    "    tmpList = tmpList.replace(\" .\", '.')\n",
    "    tmpList = tmpList.replace(\" ;\", ';')\n",
    "    tmpList = tmpList.replace(\"« \", '«')\n",
    "    tmpList = tmpList.replace(\" »\", '»')\n",
    "    tmpList = tmpList.replace(\"( \", '(')\n",
    "    tmpList = tmpList.replace(\") \", ')')\n",
    "    tmp = tmpList.split('<S>')\n",
    "    listOfTruthSentEL.append(tmp)\n",
    "\n",
    "finalTruthSentEL = list()\n",
    "for tmlist in listOfTruthSentEL:\n",
    "    for item in tmlist:\n",
    "        item = item.strip()\n",
    "        item = item\n",
    "        finalTruthSentEL.append(item)\n",
    "# print(setencesCustomList)\n",
    "# print(finalTruthSentEL)\n",
    "# print(groundTruth)\n",
    "\n"
   ]
  },
  {
   "cell_type": "markdown",
   "id": "e1a7f1a1",
   "metadata": {},
   "source": [
    "# Greek Tokenizers Metrics - Analysis"
   ]
  },
  {
   "cell_type": "code",
   "execution_count": 16,
   "id": "bbf24f48",
   "metadata": {},
   "outputs": [
    {
     "name": "stdout",
     "output_type": "stream",
     "text": [
      "No. of groundTruthTokens =  11852\n",
      "Relevant Tokens =  11251\n",
      "Retrieved Tokens =  11588\n",
      "Precision =  0.9709181912323093\n",
      "Recall =  0.9492912588592642\n",
      "F1 - Score =  0.9599829351535835\n"
     ]
    },
    {
     "data": {
      "image/png": "[encoded data removed]",
      "text/plain": [
       "<Figure size 1080x360 with 1 Axes>"
      ]
     },
     "metadata": {
      "needs_background": "light"
     },
     "output_type": "display_data"
    },
    {
     "name": "stdout",
     "output_type": "stream",
     "text": [
      "No. of groundTruthTokens =  11852\n",
      "Relevant Tokens =  11286\n",
      "Retrieved Tokens =  11652\n",
      "Precision =  0.9685890834191555\n",
      "Recall =  0.9522443469456632\n",
      "F1 - Score =  0.9603471749489448\n"
     ]
    },
    {
     "data": {
      "image/png": "[encoded data removed]",
      "text/plain": [
       "<Figure size 1080x360 with 1 Axes>"
      ]
     },
     "metadata": {
      "needs_background": "light"
     },
     "output_type": "display_data"
    },
    {
     "name": "stdout",
     "output_type": "stream",
     "text": [
      "No. of groundTruthTokens =  11852\n",
      "Relevant Tokens =  11229\n",
      "Retrieved Tokens =  12513\n",
      "Precision =  0.897386717813474\n",
      "Recall =  0.9474350320620992\n",
      "F1 - Score =  0.9217319926123537\n"
     ]
    },
    {
     "data": {
      "image/png": "[encoded data removed]",
      "text/plain": [
       "<Figure size 1080x360 with 1 Axes>"
      ]
     },
     "metadata": {
      "needs_background": "light"
     },
     "output_type": "display_data"
    },
    {
     "name": "stdout",
     "output_type": "stream",
     "text": [
      "No. of groundTruthTokens =  11852\n",
      "Relevant Tokens =  11746\n",
      "Retrieved Tokens =  11793\n",
      "Precision =  0.9960145849232596\n",
      "Recall =  0.9910563617954775\n",
      "F1 - Score =  0.9935292873757665\n"
     ]
    },
    {
     "data": {
      "image/png": "[encoded data removed]",
      "text/plain": [
       "<Figure size 1080x360 with 1 Axes>"
      ]
     },
     "metadata": {
      "needs_background": "light"
     },
     "output_type": "display_data"
    }
   ],
   "source": [
    "precision = calcPrecision(tokensWordTokenizeEL, groundTruthEL)    \n",
    "recall = calcRecall(tokensWordTokenizeEL, groundTruthEL)\n",
    "f1nltk = calcF1Score(precision, recall)\n",
    "print(\"F1 - Score = \",f1nltk)\n",
    "dicEL = FreqDist(tokensWordTokenizeEL)\n",
    "filter_tokens1EL = dict([(m, n) for m, n in dicEL.items() if n == 1])\n",
    "observed1_1 = len(filter_tokens1EL)/len(dicEL)\n",
    "top30_1EL = FreqDist(tokensWordTokenizeEL).most_common(30)\n",
    "top30_1TruthEL = FreqDist(groundTruthEL).most_common(30)\n",
    "plt.figure(figsize=(15, 5))\n",
    "plt.plot(*zip(*top30_1EL),label='NLTK word_tokenize')\n",
    "plt.scatter(*zip(*top30_1TruthEL),label='GroundTruth',color = 'red')\n",
    "plt.xlabel('Tokens')\n",
    "plt.ylabel('Frequency')\n",
    "plt.legend(loc=\"upper right\")\n",
    "plt.show()\n",
    "\n",
    "\n",
    "precision = calcPrecision(tokensWordPunctTokenizeEL, groundTruthEL)    \n",
    "recall = calcRecall(tokensWordPunctTokenizeEL, groundTruthEL)\n",
    "f1nltk2 = calcF1Score(precision, recall)\n",
    "print(\"F1 - Score = \",f1nltk2)\n",
    "dic2EL = FreqDist(tokensWordPunctTokenizeEL)\n",
    "filter_tokens2EL = dict([(m, n) for m, n in dic2EL.items() if n == 1])\n",
    "observed1_2 = len(filter_tokens2EL)/len(dic2EL)\n",
    "top30_2EL = FreqDist(tokensWordPunctTokenizeEL).most_common(30)\n",
    "top30_2TruthEL = FreqDist(groundTruthEL).most_common(30)\n",
    "plt.figure(figsize=(15, 5))\n",
    "plt.plot(*zip(*top30_2EL),label='NLTK wordpunct_tokenize')\n",
    "plt.scatter(*zip(*top30_2TruthEL),label='GroundTruth',color = 'red')\n",
    "plt.xlabel('Tokens')\n",
    "plt.ylabel('Frequency')\n",
    "plt.legend(loc=\"upper right\")\n",
    "plt.show()\n",
    "\n",
    "precision = calcPrecision(tokensSpacyEL, groundTruthEL)    \n",
    "recall = calcRecall(tokensSpacyEL, groundTruthEL)\n",
    "f1spcy = calcF1Score(precision, recall)\n",
    "print(\"F1 - Score = \",f1spcy)\n",
    "\n",
    "dic3EL = FreqDist(tokensSpacyEL)\n",
    "filter_tokens3EL = dict([(m, n) for m, n in dic3EL.items() if n == 1])\n",
    "observed1_3 = len(filter_tokens3EL)/len(dic3EL)\n",
    "top30_3EL = FreqDist(tokensSpacyEL).most_common(30)\n",
    "top30_3TruthEL = FreqDist(groundTruthEL).most_common(30)\n",
    "plt.figure(figsize=(15, 5))\n",
    "plt.plot(*zip(*top30_3EL),label='SpaCy en_core_web_sm')\n",
    "plt.scatter(*zip(*top30_3TruthEL),label='GroundTruth',color = 'red')\n",
    "plt.xlabel('Tokens')\n",
    "plt.ylabel('Frequency')\n",
    "plt.legend(loc=\"upper right\")\n",
    "plt.show()\n",
    "\n",
    "\n",
    "precision = calcPrecision(tokenCustomEL, groundTruthEL)    \n",
    "recall = calcRecall(tokenCustomEL, groundTruthEL)\n",
    "f1custom = calcF1Score(precision, recall)\n",
    "print(\"F1 - Score = \",f1custom)\n",
    "dic4EL = FreqDist(tokenCustomEL)\n",
    "filter_tokens4EL = dict([(m, n) for m, n in dic4EL.items() if n == 1])\n",
    "observed1_4 = len(filter_tokens4EL)/len(dic4EL)\n",
    "top30_4EL = FreqDist(tokenCustomEL).most_common(30)\n",
    "top30_4TruthEL = FreqDist(groundTruthEL).most_common(30)\n",
    "plt.figure(figsize=(15, 5))\n",
    "plt.plot(*zip(*top30_4EL),label='Custom Tokenizer')\n",
    "plt.scatter(*zip(*top30_4TruthEL),label='GroundTruth',color = 'red')\n",
    "plt.xlabel('Tokens')\n",
    "plt.ylabel('Frequency')\n",
    "plt.legend(loc=\"upper right\")\n",
    "plt.show()"
   ]
  },
  {
   "cell_type": "markdown",
   "id": "5ae5ba54",
   "metadata": {},
   "source": [
    "όπως βλέπουμε απο τα παραπάνω Plots, οι tokenizers συμφωνούν με το ground truth ως προς τις συχνότητες των tokens. Για πράδειγμα το η \"τελεία\" ή το \"και\" γνωρίζουμε οτι είναι πολύ συχνά tokens μέσα σε ένα Ελληνικό κείμενο.\n",
    "Η διαφορά που μπορεί να παρατηρήσει κάποιος ως προς τον τρόπο tokenization μεταξύ των μεθόδων που εξετάζουμε, έχει να κάνει με το πως η κάθε μέθοδο \"σπάει\" σε tokens τα αρκτικόλεξα. Ο custom Tokenizer συμφωνεί σχεδόν απόλυτα με το ground truth, καθώς είχαμε την δυνατότητα να επέμβουμε όσο θέλουμε. "
   ]
  },
  {
   "cell_type": "code",
   "execution_count": 17,
   "id": "39cf2330",
   "metadata": {},
   "outputs": [
    {
     "name": "stdout",
     "output_type": "stream",
     "text": [
      "╒════╤═════════════════════════════════════════════════════════╤═════════════════════╕\n",
      "│    │ percentage of tokens with Frequency = 1 per Tokenizer   │   Frequency = 1 (%) │\n",
      "╞════╪═════════════════════════════════════════════════════════╪═════════════════════╡\n",
      "│  0 │ NLTK word_tokenize                                      │            0.720422 │\n",
      "├────┼─────────────────────────────────────────────────────────┼─────────────────────┤\n",
      "│  1 │ NLTK wordpunct_tokenize                                 │            0.714066 │\n",
      "├────┼─────────────────────────────────────────────────────────┼─────────────────────┤\n",
      "│  2 │ SpaCy                                                   │            0.718154 │\n",
      "├────┼─────────────────────────────────────────────────────────┼─────────────────────┤\n",
      "│  3 │ Custom                                                  │            0.718685 │\n",
      "╘════╧═════════════════════════════════════════════════════════╧═════════════════════╛\n"
     ]
    }
   ],
   "source": [
    "info = {'percentage of tokens with Frequency = 1 per Tokenizer': ['NLTK word_tokenize','NLTK wordpunct_tokenize','SpaCy','Custom'], 'Frequency = 1 (%)': [observed1_1,observed1_2,observed1_3,observed1_4]}\n",
    "print(tabulate(info,headers='keys',tablefmt='fancy_grid',showindex=True))\n"
   ]
  },
  {
   "cell_type": "code",
   "execution_count": 18,
   "id": "b945b9cc",
   "metadata": {},
   "outputs": [
    {
     "data": {
      "image/png": "[encoded data removed]",
      "text/plain": [
       "<Figure size 720x360 with 1 Axes>"
      ]
     },
     "metadata": {
      "needs_background": "light"
     },
     "output_type": "display_data"
    }
   ],
   "source": [
    "import pandas as pd\n",
    "  \n",
    "# create data\n",
    "plotdata = pd.DataFrame({\n",
    "    \"NLTK word_tokenize\":[f1nltk,f1nltkEN],\n",
    "    \"NLTK wordpunct_tokenize\":[f1nltk2,f1nltkEN2],\n",
    "    \"SpaCy\":[f1spcy,f1spacyEN],\n",
    "    \"Custom\":[f1custom,f2custonEN]\n",
    "    }, \n",
    "    index=[\"GREEK TOKENIZERS\", \"ENGLISH TOKENIZERS\"]\n",
    ")\n",
    "plotdata.plot(kind=\"bar\",figsize=[10,5])\n",
    "plt.title(\"F1-Score per Tokenizer\")\n",
    "plt.xlabel(\"Tokenizers\")\n",
    "plt.ylabel(\"F1 scores\")\n",
    "\n",
    "plt.show()"
   ]
  },
  {
   "cell_type": "markdown",
   "id": "a9e36055",
   "metadata": {},
   "source": [
    "Στο παραπάνω Plot παρατηρούμε οτι η διαδικασία του Tokenization έχει αρκετά υψηλό performance. Αξίζει να σημειωθεί οτι για τα Ελληνικά κείμενα ο custom tokenizer έχει δώσει πολύ καλά αποτελέσματα. \n",
    "Πολλά tokens που έχουν προκύψει απο την κάθε μια απο τις μεθόδους, ανάλογα με το topic που ασχολούμαστε πιθανώς να είναι απόλυτα σωστά. Η κύριες διαφορές ως προς το ground truth μετά απο παρατηρήσεις και ανάλυση, συσχετίζονται με τις συντομογραφίες όπως είναι τα \"Mr.\" \"Inc.\" και αντίστοιχα στα Ελληνικά \"κ.\" ή παρόμοια συντομογραφία σχετικά με τίτλους εργασίας (π.χ Γεν. Γραμματέας).  "
   ]
  },
  {
   "cell_type": "markdown",
   "id": "eed22ab5",
   "metadata": {},
   "source": [
    "Τα λάθη που μπορεί να παρατηρήσει κανείς για την κάθε μέθοδο παρουσιάζονται παρακάτω:\n",
    "\n",
    "Για την SpaCy en_core_web_sm tokenizer: <br>\n",
    "Αυτή η μέθοδος δεν χειρίζεται καλά ορισμένες ακραίες περιπτώσεις, όπως συντομογραφίες. Επιπλέον, δεν χωρίζει tokens σε κενό διάστημα, επομένως μπορεί να χάσει ορισμένες περιπτώσεις όπου υπάρχουν πολλές λέξεις σε ένα token.\n",
    "\n",
    "Για την NLTK word_tokenize: <br>\n",
    "Υπάρχουν αρκετές περιπτώσεις που αυτή η μέθοδος μπορεί να αποτύχει.\n",
    "- λέξεις με σημεία στίξης κολλητά. Όπως Αρκτικόλεξα. \n",
    "- Λέξεις με παύλες\n",
    "- Λέξεις με απόστροφους\n",
    "- Λέξεις με εκλείψεις\n",
    "\n",
    "Για την NLTK wordpunct_tokenize: <br>\n",
    "χάνει ορισμένες περιπτώσεις όπου οι λέξεις παρουσιάζονται μαζί, όπως \"I'm\" ή \"don't\".\n",
    "Επίσης χάνει και τα αρκτικόλεξα όπως το \"Mr.\"\n",
    "\n",
    "Τα παραπάνω λάθη για την υλοποίηση τους custom tokenizer προσπάθησα να τα αποφύγω χρησιμοποιώντας κατάλληλα regex. "
   ]
  },
  {
   "cell_type": "markdown",
   "id": "f2584617",
   "metadata": {},
   "source": [
    "Παρακάτω υλοποιούνται κάποιες βοηθητικές συναρτήσεις για τους υπολογισμούς των metrics και την ανάλυσή μας."
   ]
  },
  {
   "cell_type": "code",
   "execution_count": 19,
   "id": "c2637ded",
   "metadata": {},
   "outputs": [],
   "source": [
    "def calcdiffRatio(listOfsetences,referenceSet):\n",
    "    counter = 0\n",
    "    index = 0\n",
    "    oldIndex = 0\n",
    "    indexTest = 0\n",
    "    oldIndexTest = 0\n",
    "    if len(listOfsetences) > len(referenceSet):\n",
    "        diffLen = len(listOfsetences) - len(referenceSet)\n",
    "        counter = len(referenceSet) - diffLen\n",
    "    elif len(listOfsetences) < len(referenceSet):\n",
    "        diffLen = len(referenceSet) - len(listOfsetences)\n",
    "        counter = len(referenceSet) - diffLen\n",
    "    else:\n",
    "        counter = len(referenceSet)\n",
    "#     finalList = listOfsetences + referenceSet\n",
    "#     final = set(finalList)\n",
    "#     counter = (len(finalList)-len(final))\n",
    "#     print(counter)\n",
    "#     while index <= len(referenceSet)-1:\n",
    "# #         oldIndex = index\n",
    "#         while indexTest <= len(listOfsetences)-1:\n",
    "#             print(\"Test\",indexTest,\" \",listOfsetences[indexTest])\n",
    "#             print(\"truth\",index,\" \",referenceSet[index])\n",
    "#             ratio = fuzz.WRatio(listOfsetences[indexTest],referenceSet[index])\n",
    "#             print(ratio)\n",
    "#             oldIndexTest = indexTest\n",
    "#             if ratio >= 95:\n",
    "#                 counter = counter + 1\n",
    "# #                 index = index + 1\n",
    "                \n",
    "#                 indexTest = indexTest + 1\n",
    "                \n",
    "#                 break\n",
    "#             else:\n",
    "\n",
    "#                 indexTest = indexTest + 1\n",
    "# #                 index = oldIndex + 1\n",
    "                \n",
    "\n",
    "                \n",
    "        \n",
    "#         index = index + 1\n",
    "    return counter\n",
    "\n",
    "def calculateMinLenOfSetence(listOfSetences,isTokenLEvel = False, isEnglish = False):\n",
    "    if isTokenLEvel == False:\n",
    "        result = min(len(sete) for sete in listOfSetences)\n",
    "    else:\n",
    "        minim = 1000\n",
    "        for sete in listOfSetences:\n",
    "            if isEnglish == False:\n",
    "                tmpTokens = customTokenizerEL(sete) #xrisimopoiw to custom tokenizer pou efere ta kalutera apotelesmata\n",
    "                if len(tmpTokens) <= minim:\n",
    "                    minim = len(tmpTokens)\n",
    "            else:\n",
    "                tmpTokens = customTokenizer(sete) \n",
    "                if len(tmpTokens) <= minim:\n",
    "                    minim = len(tmpTokens)\n",
    "        \n",
    "        result = minim\n",
    "\n",
    "    return result\n",
    "\n",
    "def calculateMaxLenOfSetence(listOfSetences,isTokenLEvel = False, isEnglish = False):\n",
    "    if isTokenLEvel == False:\n",
    "        result = max(len(sete) for sete in listOfSetences)\n",
    "    else:\n",
    "        maxim = 0\n",
    "        for sete in listOfSetences:\n",
    "            if isEnglish == False:\n",
    "                tmpTokens = customTokenizerEL(sete) #xrisimopoiw to custom tokenizer pou efere ta kalutera apotelesmata\n",
    "                if len(tmpTokens) >= maxim:\n",
    "                    maxim = len(tmpTokens)\n",
    "            else:\n",
    "                tmpTokens = customTokenizer(sete) \n",
    "                if len(tmpTokens) >= maxim:\n",
    "                    maxim = len(tmpTokens)\n",
    "        \n",
    "        result = maxim\n",
    "    return result\n",
    "\n",
    "def calculateMeanLenOfSetence(listOfSetences,isTokenLEvel = False, isEnglish = False):\n",
    "    if isTokenLEvel == False:\n",
    "        result = sum(len(sete) for sete in listOfSetences)/len(listOfSetences)\n",
    "    else:\n",
    "        sumOfLengths = 0\n",
    "        for sete in listOfSetences:\n",
    "            if isEnglish == False:\n",
    "                tmpTokens = customTokenizerEL(sete) #xrisimopoiw to custom tokenizer pou efere ta kalutera apotelesmata\n",
    "                sumOfLengths = len(tmpTokens)\n",
    "            else:\n",
    "                tmpTokens = customTokenizer(sete) \n",
    "                sumOfLengths = len(tmpTokens)\n",
    "        result = sumOfLengths/len(listOfSetences)\n",
    "    return result"
   ]
  },
  {
   "cell_type": "code",
   "execution_count": 20,
   "id": "d2b59ca0",
   "metadata": {},
   "outputs": [
    {
     "name": "stdout",
     "output_type": "stream",
     "text": [
      "╒════╤═════════════════════════════╤══════════════════════╤═══════════════════════════╤══════════╤══════════╕\n",
      "│    │ Tokenizer                   │   NLTK word_tokenize │   NLTK wordpunct_tokenize │    SpaCy │   Custom │\n",
      "╞════╪═════════════════════════════╪══════════════════════╪═══════════════════════════╪══════════╪══════════╡\n",
      "│  0 │ GREEK TOKENIZERS F1-Score   │             0.959983 │                  0.960347 │ 0.921732 │ 0.993529 │\n",
      "├────┼─────────────────────────────┼──────────────────────┼───────────────────────────┼──────────┼──────────┤\n",
      "│  1 │ ENGLISH TOKENIZERS F1-score │             0.953972 │                  0.951344 │ 0.96766  │ 0.91277  │\n",
      "╘════╧═════════════════════════════╧══════════════════════╧═══════════════════════════╧══════════╧══════════╛\n"
     ]
    }
   ],
   "source": [
    "info = {'Tokenizer': ['GREEK TOKENIZERS F1-Score', 'ENGLISH TOKENIZERS F1-score'], 'NLTK word_tokenize': [f1nltk,f1nltkEN], 'NLTK wordpunct_tokenize': [f1nltk2,f1nltkEN2],\n",
    "       'SpaCy':[f1spcy,f1spacyEN],'Custom':[f1custom,f2custonEN]}\n",
    "print(tabulate(info,headers='keys',tablefmt='fancy_grid',showindex=True))"
   ]
  },
  {
   "cell_type": "markdown",
   "id": "622463f4",
   "metadata": {},
   "source": [
    "# English Sentencizer"
   ]
  },
  {
   "cell_type": "code",
   "execution_count": 21,
   "id": "bace5d3e",
   "metadata": {},
   "outputs": [
    {
     "name": "stdout",
     "output_type": "stream",
     "text": [
      "======================================ENGLISH=============================================\n",
      "================= NLTK word_tokenize =====================\n",
      "No. of groundTruthSetences =  3914\n",
      "Relevant Setences =  3863\n",
      "Retrieved Setences =  3863\n",
      "Precision =  1.0\n",
      "No. of groundTruthSetences =  3914\n",
      "Recall =  0.986969851814001\n",
      "==================NLTK wordpunct_tokenize====================\n",
      "No. of groundTruthSetences =  3914\n",
      "Relevant Setences =  2922\n",
      "Retrieved Setences =  4906\n",
      "Precision =  0.5955972278842234\n",
      "No. of groundTruthSetences =  3914\n",
      "Recall =  0.7465508431272355\n",
      "================== SpaCy en_core_web_sm ====================\n",
      "No. of groundTruthSetences =  3914\n",
      "Relevant Setences =  3914\n",
      "Retrieved Setences =  3914\n",
      "Precision =  1.0\n",
      "No. of groundTruthSetences =  3914\n",
      "Recall =  1.0\n",
      "F1 - Score =  1.0\n",
      "================== Custom Tokenizer ====================\n",
      "No. of groundTruthSetences =  3914\n",
      "Relevant Setences =  3829\n",
      "Retrieved Setences =  3829\n",
      "Precision =  1.0\n",
      "No. of groundTruthSetences =  3914\n",
      "Recall =  0.9782830863566684\n",
      "F1 - Score =  0.9890223427612037\n",
      "╒════╤═════════════════════════╤════════════╤═════════════╤══════════╕\n",
      "│    │ Tokenizer               │   F1-Score │   Precision │   Recall │\n",
      "╞════╪═════════════════════════╪════════════╪═════════════╪══════════╡\n",
      "│  0 │ NLTK word_tokenize      │   0.993442 │    1        │ 0.98697  │\n",
      "├────┼─────────────────────────┼────────────┼─────────────┼──────────┤\n",
      "│  1 │ NLTK wordpunct_tokenize │   0.662585 │    0.595597 │ 0.746551 │\n",
      "├────┼─────────────────────────┼────────────┼─────────────┼──────────┤\n",
      "│  2 │ SpaCy                   │   1        │    1        │ 1        │\n",
      "├────┼─────────────────────────┼────────────┼─────────────┼──────────┤\n",
      "│  3 │ Custom                  │   0.989022 │    1        │ 0.978283 │\n",
      "╘════╧═════════════════════════╧════════════╧═════════════╧══════════╛\n"
     ]
    }
   ],
   "source": [
    "\n",
    "\n",
    "# from nltk.metrics import *\n",
    "print(\"======================================ENGLISH=============================================\")\n",
    "\n",
    "print(\"================= NLTK word_tokenize =====================\")\n",
    "counter = calcdiffRatio(nltkSentTokens,groundTruthSentences)\n",
    "prec1 = calcPrecision(nltkSentTokens,groundTruthSentences,False,counter) \n",
    "# print(\"Precision = \",prec)\n",
    "rec1 = calcRecall(nltkSentTokens,groundTruthSentences,False,counter)\n",
    "# print(\"Recall = \",rec)\n",
    "f1nltkEN = calcF1Score(prec1, rec1)\n",
    "# print(\"F1 - Score = \",f1nltkEN)\n",
    "\n",
    "print(\"==================NLTK wordpunct_tokenize====================\")\n",
    "# print(nltkSentPunctTokenize[1].split())\n",
    "counter = calcdiffRatio(nltkSentPunctTokenize,groundTruthSentences)\n",
    "prec2 = calcPrecision(nltkSentPunctTokenize,groundTruthSentences,False,counter) \n",
    "rec2 = calcRecall(nltkSentPunctTokenize,groundTruthSentences,False,counter) \n",
    "f1nltkEN2 = calcF1Score(prec2, rec2)\n",
    "# print(\"F1 - Score = \",f1nltkEN2)\n",
    "\n",
    "print(\"================== SpaCy en_core_web_sm ====================\")\n",
    "counter = calcdiffRatio(setencesSpacy,groundTruthSentences)\n",
    "prec3 = calcPrecision(setencesSpacy,groundTruthSentences,False,counter)    \n",
    "rec3 = calcRecall(setencesSpacy,groundTruthSentences,False,counter)\n",
    "f1spacyEN = calcF1Score(prec3, rec3)\n",
    "print(\"F1 - Score = \",f1spacyEN)\n",
    "# f1EN.append(f1spacyEN)\n",
    "\n",
    "print(\"================== Custom Tokenizer ====================\")\n",
    "counter = calcdiffRatio(customSetences,groundTruthSentences)\n",
    "precision = calcPrecision(customSetences, groundTruthSentences,False,counter)    \n",
    "recall = calcRecall(customSetences, groundTruthSentences,False,counter)\n",
    "f2custonEN = calcF1Score(precision, recall)\n",
    "print(\"F1 - Score = \",f2custonEN)\n",
    "# f1EN.append(f2custonEN)\n",
    "\n",
    "\n",
    "\n",
    "\n",
    "info = {'Tokenizer': ['NLTK word_tokenize','NLTK wordpunct_tokenize','SpaCy','Custom'], 'F1-Score': [f1nltkEN,f1nltkEN2,f1spacyEN,f2custonEN],\n",
    "       'Precision':[prec1,prec2,prec3,precision],'Recall':[rec1,rec2,rec3,recall]}\n",
    "print(tabulate(info,headers='keys',tablefmt='fancy_grid',showindex=True))\n"
   ]
  },
  {
   "cell_type": "markdown",
   "id": "c921ecad",
   "metadata": {},
   "source": [
    "Παρακάτω βλέπουμε τα min/max/mean values  για τις προτάσεις που προέκυψαν σε επίπεδο χαρακτήρων.\n"
   ]
  },
  {
   "cell_type": "code",
   "execution_count": 22,
   "id": "01b17dec",
   "metadata": {},
   "outputs": [
    {
     "name": "stdout",
     "output_type": "stream",
     "text": [
      "====================================== English Char Level=============================\n"
     ]
    }
   ],
   "source": [
    "minvalueNLTKEN = calculateMinLenOfSetence(nltkSentTokens,isTokenLEvel = False, isEnglish = True)\n",
    "minvalueNLTKpunctEN = calculateMinLenOfSetence(nltkSentPunctTokenize,isTokenLEvel = False, isEnglish = True)\n",
    "minvalueSpacyEN = calculateMinLenOfSetence(setencesSpacy,isTokenLEvel = False, isEnglish = True)\n",
    "minvalueCustomEN = calculateMinLenOfSetence(customSetences,isTokenLEvel = False, isEnglish = True)\n",
    "\n",
    "maxvalueNLTKEN = calculateMaxLenOfSetence(nltkSentTokens,isTokenLEvel = False, isEnglish = True)\n",
    "maxvalueNLTKpunctEN = calculateMaxLenOfSetence(nltkSentPunctTokenize,isTokenLEvel = False, isEnglish = True)\n",
    "maxvalueSpacyEN = calculateMaxLenOfSetence(setencesSpacy,isTokenLEvel = False, isEnglish = True)\n",
    "maxvalueCustomEN = calculateMaxLenOfSetence(customSetences,isTokenLEvel = False, isEnglish = True)\n",
    "\n",
    "meanvalueNLTKEN = calculateMeanLenOfSetence(nltkSentTokens,isTokenLEvel = False, isEnglish = True)\n",
    "meanvalueNLTKpunctEN = calculateMeanLenOfSetence(nltkSentPunctTokenize,isTokenLEvel = False, isEnglish = True)\n",
    "meanvalueSpacyEN = calculateMeanLenOfSetence(setencesSpacy,isTokenLEvel = False, isEnglish = True)\n",
    "meanvalueCustomEN = calculateMeanLenOfSetence(customSetences,isTokenLEvel = False, isEnglish = True)\n",
    "print(\"====================================== English Char Level=============================\")\n",
    "# print(\"Min length of setence = \",minvalueNLTKEN)\n",
    "# print(\"Max length of setence = \",maxvalueNLTKEN)\n",
    "# print(\"Mean length of setence = \",meanvalueNLTKEN)"
   ]
  },
  {
   "cell_type": "code",
   "execution_count": 23,
   "id": "b5223133",
   "metadata": {},
   "outputs": [
    {
     "name": "stdout",
     "output_type": "stream",
     "text": [
      "╒════╤═════════════════════════╤══════════════╤══════════════╤═══════════════╕\n",
      "│    │ Setencizer              │   Min length │   Max Length │   Mean length │\n",
      "╞════╪═════════════════════════╪══════════════╪══════════════╪═══════════════╡\n",
      "│  0 │ NLTK word_tokenize      │            2 │         1157 │       128.691 │\n",
      "├────┼─────────────────────────┼──────────────┼──────────────┼───────────────┤\n",
      "│  1 │ NLTK wordpunct_tokenize │            2 │         1157 │       101.126 │\n",
      "├────┼─────────────────────────┼──────────────┼──────────────┼───────────────┤\n",
      "│  2 │ SpaCy                   │            1 │         1160 │       127.076 │\n",
      "├────┼─────────────────────────┼──────────────┼──────────────┼───────────────┤\n",
      "│  3 │ Custom                  │            2 │          722 │       129.843 │\n",
      "╘════╧═════════════════════════╧══════════════╧══════════════╧═══════════════╛\n"
     ]
    }
   ],
   "source": [
    "info = {'Setencizer': ['NLTK word_tokenize','NLTK wordpunct_tokenize','SpaCy','Custom'], 'Min length': [minvalueNLTKEN,minvalueNLTKpunctEN,minvalueSpacyEN,minvalueCustomEN],\n",
    "       'Max Length':[maxvalueNLTKEN,maxvalueNLTKpunctEN,maxvalueSpacyEN,maxvalueCustomEN],'Mean length':[meanvalueNLTKEN,meanvalueNLTKpunctEN,meanvalueSpacyEN,meanvalueCustomEN]}\n",
    "print(tabulate(info,headers='keys',tablefmt='fancy_grid',showindex=True))"
   ]
  },
  {
   "cell_type": "markdown",
   "id": "c11d1f9a",
   "metadata": {},
   "source": [
    "Ας δούμε τώρα, πως διαμορφώνονται οι αντίστοιχες τιμές μετρώντας σε επίπεδο token."
   ]
  },
  {
   "cell_type": "code",
   "execution_count": 24,
   "id": "2e4f1a07",
   "metadata": {},
   "outputs": [
    {
     "name": "stdout",
     "output_type": "stream",
     "text": [
      "====================================== English token Level=============================\n"
     ]
    }
   ],
   "source": [
    "minvalueNLTKEN = calculateMinLenOfSetence(nltkSentTokens,isTokenLEvel = True, isEnglish = True)\n",
    "minvalueNLTKpunctEN = calculateMinLenOfSetence(nltkSentPunctTokenize,isTokenLEvel = True, isEnglish = True)\n",
    "minvalueSpacyEN = calculateMinLenOfSetence(setencesSpacy,isTokenLEvel = True, isEnglish = True)\n",
    "minvalueCustomEN = calculateMinLenOfSetence(customSetences,isTokenLEvel = True, isEnglish = True)\n",
    "\n",
    "maxvalueNLTKEN = calculateMaxLenOfSetence(nltkSentTokens,isTokenLEvel = True, isEnglish = True)\n",
    "maxvalueNLTKpunctEN = calculateMaxLenOfSetence(nltkSentPunctTokenize,isTokenLEvel = True, isEnglish = True)\n",
    "maxvalueSpacyEN = calculateMaxLenOfSetence(setencesSpacy,isTokenLEvel = True, isEnglish = True)\n",
    "maxvalueCustomEN = calculateMaxLenOfSetence(customSetences,isTokenLEvel = True, isEnglish = True)\n",
    "\n",
    "meanvalueNLTKEN = calculateMeanLenOfSetence(nltkSentTokens,isTokenLEvel = True, isEnglish = True)\n",
    "meanvalueNLTKpunctEN = calculateMeanLenOfSetence(nltkSentPunctTokenize,isTokenLEvel = True, isEnglish = True)\n",
    "meanvalueSpacyEN = calculateMeanLenOfSetence(setencesSpacy,isTokenLEvel = True, isEnglish = True)\n",
    "meanvalueCustomEN = calculateMeanLenOfSetence(customSetences,isTokenLEvel = True, isEnglish = True)\n",
    "print(\"====================================== English token Level=============================\")\n",
    "# print(minvalueNLTKEN)\n",
    "# print(maxvalueNLTKEN)\n",
    "# print(meanvalueNLTKEN)"
   ]
  },
  {
   "cell_type": "code",
   "execution_count": 25,
   "id": "44449c88",
   "metadata": {},
   "outputs": [
    {
     "name": "stdout",
     "output_type": "stream",
     "text": [
      "╒════╤═════════════════════════╤══════════════╤══════════════╤═══════════════╕\n",
      "│    │ Setencizer              │   Min length │   Max Length │   Mean length │\n",
      "╞════╪═════════════════════════╪══════════════╪══════════════╪═══════════════╡\n",
      "│  0 │ NLTK word_tokenize      │            1 │          276 │   0.00103546  │\n",
      "├────┼─────────────────────────┼──────────────┼──────────────┼───────────────┤\n",
      "│  1 │ NLTK wordpunct_tokenize │            1 │          276 │   0.000815328 │\n",
      "├────┼─────────────────────────┼──────────────┼──────────────┼───────────────┤\n",
      "│  2 │ SpaCy                   │            1 │          278 │   0.00102197  │\n",
      "├────┼─────────────────────────┼──────────────┼──────────────┼───────────────┤\n",
      "│  3 │ Custom                  │            1 │          129 │   0.00104466  │\n",
      "╘════╧═════════════════════════╧══════════════╧══════════════╧═══════════════╛\n"
     ]
    }
   ],
   "source": [
    "info = {'Setencizer': ['NLTK word_tokenize','NLTK wordpunct_tokenize','SpaCy','Custom'], 'Min length': [minvalueNLTKEN,minvalueNLTKpunctEN,minvalueSpacyEN,minvalueCustomEN],\n",
    "       'Max Length':[maxvalueNLTKEN,maxvalueNLTKpunctEN,maxvalueSpacyEN,maxvalueCustomEN],'Mean length':[meanvalueNLTKEN,meanvalueNLTKpunctEN,meanvalueSpacyEN,meanvalueCustomEN]}\n",
    "print(tabulate(info,headers='keys',tablefmt='fancy_grid',showindex=True))"
   ]
  },
  {
   "cell_type": "markdown",
   "id": "fb1126a1",
   "metadata": {},
   "source": [
    "Εάν συγκρίνει κανείς τους 2 παραπάνω πίνακες θα παρατηρήσει οτι υπάρχει αρκετά μεγάλη διαφορά στο μήκος πρότασης. Αυτό οφείλεται στο γεγονός οτι σε επίπεδο χαρακτήρα θα συμπεριληφθούν κενά και σημεία στίξης. Αντίθετα όμως εάν μετρήσουμε το μήκος σε επίπεδο token, τότε θα φανεί μικρότερο, διότι πιθανώς κάποιο token να έχει μαζί του τα σημεία στίξης όπως μια συντομογραφία. Επίσης σε αυτήν την περίπτωση σπάνια θα δούμε κενά σαν ξεχωριστό token. "
   ]
  },
  {
   "cell_type": "markdown",
   "id": "c54d5971",
   "metadata": {},
   "source": [
    "# Greek Setencizer"
   ]
  },
  {
   "cell_type": "code",
   "execution_count": 26,
   "id": "0c4057ce",
   "metadata": {},
   "outputs": [
    {
     "name": "stdout",
     "output_type": "stream",
     "text": [
      "======================================GREEK=============================================\n",
      "================= NLTK word_tokenize =====================\n",
      "No. of groundTruthSetences =  374\n",
      "Relevant Setences =  371\n",
      "Retrieved Setences =  371\n",
      "Precision =  1.0\n",
      "No. of groundTruthSetences =  374\n",
      "Recall =  0.9919786096256684\n",
      "F1 - Score =  0.9959731543624161\n",
      "==================NLTK wordpunct_tokenize====================\n",
      "No. of groundTruthSetences =  374\n",
      "Relevant Setences =  371\n",
      "Retrieved Setences =  371\n",
      "Precision =  1.0\n",
      "No. of groundTruthSetences =  374\n",
      "Recall =  0.9919786096256684\n",
      "F1 - Score =  0.9959731543624161\n",
      "================== SpaCy el_core_web_sm ====================\n",
      "No. of groundTruthSetences =  374\n",
      "Relevant Setences =  322\n",
      "Retrieved Setences =  426\n",
      "Precision =  0.755868544600939\n",
      "No. of groundTruthSetences =  374\n",
      "Recall =  0.8609625668449198\n",
      "F1 - Score =  0.8050000000000002\n",
      "================== Custom Tokenizer ====================\n",
      "No. of groundTruthSetences =  374\n",
      "Relevant Setences =  369\n",
      "Retrieved Setences =  379\n",
      "Precision =  0.9736147757255936\n",
      "No. of groundTruthSetences =  374\n",
      "Recall =  0.9866310160427807\n",
      "F1 - Score =  0.9800796812749003\n"
     ]
    }
   ],
   "source": [
    "from nltk.metrics import *\n",
    "print(\"======================================GREEK=============================================\")\n",
    "\n",
    "print(\"================= NLTK word_tokenize =====================\")\n",
    "counter = calcdiffRatio(setenceWordTokenizeEL,finalTruthSentEL)\n",
    "prec1 = calcPrecision(setenceWordTokenizeEL,finalTruthSentEL,False,counter) \n",
    "# print(\"Precision = \",prec)\n",
    "rec1 = calcRecall(setenceWordTokenizeEL,finalTruthSentEL,False,counter)\n",
    "# print(\"Recall = \",rec)\n",
    "f1nltkEN = calcF1Score(prec1, rec1)\n",
    "print(\"F1 - Score = \",f1nltkEN)\n",
    "\n",
    "print(\"==================NLTK wordpunct_tokenize====================\")\n",
    "# print(nltkSentPunctTokenize[1].split())\n",
    "counter = calcdiffRatio(setenceWordPunctTokenizeEL,finalTruthSentEL)\n",
    "prec2 = calcPrecision(setenceWordPunctTokenizeEL,finalTruthSentEL,False,counter) \n",
    "rec2 = calcRecall(setenceWordPunctTokenizeEL,finalTruthSentEL,False,counter) \n",
    "f1nltkEN2 = calcF1Score(prec2, rec2)\n",
    "print(\"F1 - Score = \",f1nltkEN2)\n",
    "\n",
    "print(\"================== SpaCy el_core_web_sm ====================\")\n",
    "counter = calcdiffRatio(setencesSpacyEL,finalTruthSentEL)\n",
    "prec3 = calcPrecision(setencesSpacyEL,finalTruthSentEL,False,counter)    \n",
    "rec3 = calcRecall(setencesSpacyEL,finalTruthSentEL,False,counter)\n",
    "f1spacyEN = calcF1Score(prec3, rec3)\n",
    "print(\"F1 - Score = \",f1spacyEN)\n",
    "# f1EN.append(f1spacyEN)\n",
    "print(\"================== Custom Tokenizer ====================\")\n",
    "counter = calcdiffRatio(setencesCustomListEL,finalTruthSentEL)\n",
    "precision = calcPrecision(setencesCustomListEL, finalTruthSentEL,False,counter)    \n",
    "recall = calcRecall(setencesCustomListEL, finalTruthSentEL,False,counter)\n",
    "f2custonEL = calcF1Score(precision, recall)\n",
    "print(\"F1 - Score = \",f2custonEL)\n",
    "# f1EN.append(f2custonEN)"
   ]
  },
  {
   "cell_type": "code",
   "execution_count": 27,
   "id": "f11fe89a",
   "metadata": {},
   "outputs": [
    {
     "name": "stdout",
     "output_type": "stream",
     "text": [
      "╒════╤═════════════════════════╤════════════╤═════════════╤══════════╕\n",
      "│    │ Tokenizer               │   F1-Score │   Precision │   Recall │\n",
      "╞════╪═════════════════════════╪════════════╪═════════════╪══════════╡\n",
      "│  0 │ NLTK word_tokenize      │   0.995973 │    1        │ 0.991979 │\n",
      "├────┼─────────────────────────┼────────────┼─────────────┼──────────┤\n",
      "│  1 │ NLTK wordpunct_tokenize │   0.995973 │    1        │ 0.991979 │\n",
      "├────┼─────────────────────────┼────────────┼─────────────┼──────────┤\n",
      "│  2 │ SpaCy                   │   0.805    │    0.755869 │ 0.860963 │\n",
      "├────┼─────────────────────────┼────────────┼─────────────┼──────────┤\n",
      "│  3 │ Custom                  │   0.98008  │    0.973615 │ 0.986631 │\n",
      "╘════╧═════════════════════════╧════════════╧═════════════╧══════════╛\n"
     ]
    }
   ],
   "source": [
    "info = {'Tokenizer': ['NLTK word_tokenize','NLTK wordpunct_tokenize','SpaCy','Custom'], 'F1-Score': [f1nltkEN,f1nltkEN2,f1spacyEN,f2custonEL],\n",
    "       'Precision':[prec1,prec2,prec3,precision],'Recall':[rec1,rec2,rec3,recall]}\n",
    "print(tabulate(info,headers='keys',tablefmt='fancy_grid',showindex=True))"
   ]
  },
  {
   "cell_type": "markdown",
   "id": "bc43031d",
   "metadata": {},
   "source": [
    "Τα λάθη που μπορεί κανείς να παρατηρήσει για την κάθε μέθοδο είναι τα παρακάτω:\n",
    "\n",
    "Για την NLTK sent_tokenize(): <br>\n",
    "Αυτή η μέθοδος δεν χειρίζεται καλά ορισμένες συντομογραφίες, όπως Mr. and Mrs. Έχει επίσης δυσκολίες με ορισμένα σημεία στίξης, όπως οι παρενθέσεις.\n",
    "\n",
    "Για NLTK PunktSentenceTokenizer: <br>\n",
    "Αυτή η μέθοδος δεν λειτουργεί καλά με μη τυπικό/κλασσικό αγγλικό κείμενο, όπως κείμενο με άτυπη γλώσσα (informal language) ή κείμενο με ασυνήθιστα σημεία στίξης.\n",
    "\n",
    "Για Spacy en_core_web_sm & el_core_web_sm: <br>\n",
    "Αυτές οι μέθοδοι είναι στατιστικά μοντέλα για τα Αγγλικά και Ελληνικά αντίστοιχα, που εκπαιδεύτηκαν σε δεδομένα απο το διαδίκτυο. Καλύπτουν ένα ευρύ φάσμα αγγλικών/ελληνικών, αλλά δεν είναι τέλεια. Για παράδειγμα, ενδέχεται να μην είναι σε θέση να χειριστούν σωστά περιπτώσεις που αφορούν λέξεις αργκό ή συντομογραφίες. Επιπλέον, δεν μπορεί να χειριστεί σωστά ονόματα, τοποθεσίες ή οργανισμούς.\n"
   ]
  },
  {
   "cell_type": "code",
   "execution_count": 28,
   "id": "09e15611",
   "metadata": {},
   "outputs": [
    {
     "name": "stdout",
     "output_type": "stream",
     "text": [
      "====================================== Greek Char Level=============================\n"
     ]
    }
   ],
   "source": [
    "minvalueNLTKEL = calculateMinLenOfSetence(setenceWordTokenizeEL,isTokenLEvel = False, isEnglish = False)\n",
    "minvalueNLTKpunctEL = calculateMinLenOfSetence(setenceWordPunctTokenizeEL,isTokenLEvel = False, isEnglish = False)\n",
    "minvalueSpacyEL = calculateMinLenOfSetence(setencesSpacyEL,isTokenLEvel = False, isEnglish = False)\n",
    "minvalueCustomEL = calculateMinLenOfSetence(setencesCustomListEL,isTokenLEvel = False, isEnglish = False)\n",
    "\n",
    "maxvalueNLTKEL = calculateMaxLenOfSetence(setenceWordTokenizeEL,isTokenLEvel = False, isEnglish = False)\n",
    "maxvalueNLTKpunctEL = calculateMaxLenOfSetence(setenceWordPunctTokenizeEL,isTokenLEvel = False, isEnglish = False)\n",
    "maxvalueSpacyEL = calculateMaxLenOfSetence(setencesSpacyEL,isTokenLEvel = False, isEnglish = False)\n",
    "maxvalueCustomEL = calculateMaxLenOfSetence(setencesCustomListEL,isTokenLEvel = False, isEnglish = False)\n",
    "\n",
    "meanvalueNLTKEL = calculateMeanLenOfSetence(setenceWordTokenizeEL,isTokenLEvel = False, isEnglish = False)\n",
    "meanvalueNLTKpunctEL = calculateMeanLenOfSetence(setenceWordPunctTokenizeEL,isTokenLEvel = False, isEnglish = False)\n",
    "meanvalueSpacyEL = calculateMeanLenOfSetence(setencesSpacyEL,isTokenLEvel = False, isEnglish = False)\n",
    "meanvalueCustomEL = calculateMeanLenOfSetence(setencesCustomListEL,isTokenLEvel = False, isEnglish = False)\n",
    "print(\"====================================== Greek Char Level=============================\")"
   ]
  },
  {
   "cell_type": "code",
   "execution_count": 29,
   "id": "4ed788d7",
   "metadata": {},
   "outputs": [
    {
     "name": "stdout",
     "output_type": "stream",
     "text": [
      "╒════╤═════════════════════════╤══════════════╤══════════════╤═══════════════╕\n",
      "│    │ Setencizer              │   Min length │   Max Length │   Mean length │\n",
      "╞════╪═════════════════════════╪══════════════╪══════════════╪═══════════════╡\n",
      "│  0 │ NLTK word_tokenize      │            4 │          742 │       186.221 │\n",
      "├────┼─────────────────────────┼──────────────┼──────────────┼───────────────┤\n",
      "│  1 │ NLTK wordpunct_tokenize │            4 │          742 │       186.221 │\n",
      "├────┼─────────────────────────┼──────────────┼──────────────┼───────────────┤\n",
      "│  2 │ SpaCy                   │            1 │          623 │       162.207 │\n",
      "├────┼─────────────────────────┼──────────────┼──────────────┼───────────────┤\n",
      "│  3 │ Custom                  │            2 │          742 │       182.264 │\n",
      "╘════╧═════════════════════════╧══════════════╧══════════════╧═══════════════╛\n"
     ]
    }
   ],
   "source": [
    "info = {'Setencizer': ['NLTK word_tokenize','NLTK wordpunct_tokenize','SpaCy','Custom'], 'Min length': [minvalueNLTKEL,minvalueNLTKpunctEL,minvalueSpacyEL,minvalueCustomEL],\n",
    "       'Max Length':[maxvalueNLTKEL,maxvalueNLTKpunctEL,maxvalueSpacyEL,maxvalueCustomEL],'Mean length':[meanvalueNLTKEL,meanvalueNLTKpunctEL,meanvalueSpacyEL,meanvalueCustomEL]}\n",
    "print(tabulate(info,headers='keys',tablefmt='fancy_grid',showindex=True))"
   ]
  },
  {
   "cell_type": "code",
   "execution_count": 30,
   "id": "aa38ce2e",
   "metadata": {},
   "outputs": [
    {
     "name": "stdout",
     "output_type": "stream",
     "text": [
      "====================================== Greek Token Level=============================\n"
     ]
    }
   ],
   "source": [
    "minvalueNLTKEL = calculateMinLenOfSetence(setenceWordTokenizeEL,isTokenLEvel = True, isEnglish = False)\n",
    "minvalueNLTKpunctEL = calculateMinLenOfSetence(setenceWordPunctTokenizeEL,isTokenLEvel = True, isEnglish = False)\n",
    "minvalueSpacyEL = calculateMinLenOfSetence(setencesSpacyEL,isTokenLEvel = True, isEnglish = False)\n",
    "minvalueCustomEL = calculateMinLenOfSetence(setencesCustomListEL,isTokenLEvel = True, isEnglish = False)\n",
    "\n",
    "maxvalueNLTKEL = calculateMaxLenOfSetence(setenceWordTokenizeEL,isTokenLEvel = True, isEnglish = False)\n",
    "maxvalueNLTKpunctEL = calculateMaxLenOfSetence(setenceWordPunctTokenizeEL,isTokenLEvel = True, isEnglish = False)\n",
    "maxvalueSpacyEL = calculateMaxLenOfSetence(setencesSpacyEL,isTokenLEvel = True, isEnglish = False)\n",
    "maxvalueCustomEL = calculateMaxLenOfSetence(setencesCustomListEL,isTokenLEvel = True, isEnglish = False)\n",
    "\n",
    "meanvalueNLTKEL = calculateMeanLenOfSetence(setenceWordTokenizeEL,isTokenLEvel = True, isEnglish = False)\n",
    "meanvalueNLTKpunctEL = calculateMeanLenOfSetence(setenceWordPunctTokenizeEL,isTokenLEvel = True, isEnglish = False)\n",
    "meanvalueSpacyEL = calculateMeanLenOfSetence(setencesSpacyEL,isTokenLEvel = True, isEnglish = False)\n",
    "meanvalueCustomEL = calculateMeanLenOfSetence(setencesCustomListEL,isTokenLEvel = True, isEnglish = False)\n",
    "print(\"====================================== Greek Token Level=============================\")"
   ]
  },
  {
   "cell_type": "code",
   "execution_count": 31,
   "id": "379d165b",
   "metadata": {},
   "outputs": [
    {
     "name": "stdout",
     "output_type": "stream",
     "text": [
      "╒════╤═════════════════════════╤══════════════╤══════════════╤═══════════════╕\n",
      "│    │ Setencizer              │   Min length │   Max Length │   Mean length │\n",
      "╞════╪═════════════════════════╪══════════════╪══════════════╪═══════════════╡\n",
      "│  0 │ NLTK word_tokenize      │            2 │          129 │     0.0350404 │\n",
      "├────┼─────────────────────────┼──────────────┼──────────────┼───────────────┤\n",
      "│  1 │ NLTK wordpunct_tokenize │            2 │          129 │     0.0350404 │\n",
      "├────┼─────────────────────────┼──────────────┼──────────────┼───────────────┤\n",
      "│  2 │ SpaCy                   │            0 │           99 │     0         │\n",
      "├────┼─────────────────────────┼──────────────┼──────────────┼───────────────┤\n",
      "│  3 │ Custom                  │            1 │          129 │     0.0343008 │\n",
      "╘════╧═════════════════════════╧══════════════╧══════════════╧═══════════════╛\n"
     ]
    }
   ],
   "source": [
    "info = {'Setencizer': ['NLTK word_tokenize','NLTK wordpunct_tokenize','SpaCy','Custom'], 'Min length': [minvalueNLTKEL,minvalueNLTKpunctEL,minvalueSpacyEL,minvalueCustomEL],\n",
    "       'Max Length':[maxvalueNLTKEL,maxvalueNLTKpunctEL,maxvalueSpacyEL,maxvalueCustomEL],'Mean length':[meanvalueNLTKEL,meanvalueNLTKpunctEL,meanvalueSpacyEL,meanvalueCustomEL]}\n",
    "print(tabulate(info,headers='keys',tablefmt='fancy_grid',showindex=True))"
   ]
  },
  {
   "cell_type": "markdown",
   "id": "43a94d4a",
   "metadata": {},
   "source": [
    "Για να μετρήσω σε επίπεδο token χρησιμοποίησα τον δικό μου custom tokenizer που είδαμε οτι έφερε πολύ καλά αποτελέσματα. Απο τον παραπάνω πίνακα μπορούμε να δούμε οτι για την περίπτωση του Spacy, οι μετρήσεις μας έχουν φέρει μηδενικές τιμές. Αυτό πιθανώς μπορεί να οφείλεται στα regex Που χρησιμοποιεί ο tokenizer κατα τα οποία να \"πετάει έξω\" κάποια στοιχεία όπως είναι τα περιττά κενά. "
   ]
  }
 ],
 "metadata": {
  "kernelspec": {
   "display_name": "Python 3 (ipykernel)",
   "language": "python",
   "name": "python3"
  },
  "language_info": {
   "codemirror_mode": {
    "name": "ipython",
    "version": 3
   },
   "file_extension": ".py",
   "mimetype": "text/x-python",
   "name": "python",
   "nbconvert_exporter": "python",
   "pygments_lexer": "ipython3",
   "version": "3.9.1"
  }
 },
 "nbformat": 4,
 "nbformat_minor": 5
}
